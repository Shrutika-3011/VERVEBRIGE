{
 "cells": [
  {
   "cell_type": "markdown",
   "id": "cd827658",
   "metadata": {
    "papermill": {
     "duration": 0.026266,
     "end_time": "2022-12-08T05:17:49.292599",
     "exception": false,
     "start_time": "2022-12-08T05:17:49.266333",
     "status": "completed"
    },
    "tags": []
   },
   "source": [
    "# Preparation Process for Study :"
   ]
  },
  {
   "cell_type": "markdown",
   "id": "07b5056f",
   "metadata": {
    "papermill": {
     "duration": 0.022104,
     "end_time": "2022-12-08T05:17:49.337050",
     "exception": false,
     "start_time": "2022-12-08T05:17:49.314946",
     "status": "completed"
    },
    "tags": []
   },
   "source": [
    "## Import To Libraries"
   ]
  },
  {
   "cell_type": "code",
   "execution_count": 1,
   "id": "f213eb81",
   "metadata": {
    "_cell_guid": "b1076dfc-b9ad-4769-8c92-a6c4dae69d19",
    "_uuid": "8f2839f25d086af736a60e9eeb907d3b93b6e0e5",
    "execution": {
     "iopub.execute_input": "2022-12-08T05:17:49.384071Z",
     "iopub.status.busy": "2022-12-08T05:17:49.383243Z",
     "iopub.status.idle": "2022-12-08T05:17:49.404470Z",
     "shell.execute_reply": "2022-12-08T05:17:49.403233Z"
    },
    "papermill": {
     "duration": 0.047645,
     "end_time": "2022-12-08T05:17:49.407104",
     "exception": false,
     "start_time": "2022-12-08T05:17:49.359459",
     "status": "completed"
    },
    "tags": []
   },
   "outputs": [
    {
     "name": "stdout",
     "output_type": "stream",
     "text": [
      "/kaggle/input/microsoft-azure-predictive-maintenance/PdM_errors.csv\n",
      "/kaggle/input/microsoft-azure-predictive-maintenance/PdM_telemetry.csv\n",
      "/kaggle/input/microsoft-azure-predictive-maintenance/PdM_failures.csv\n",
      "/kaggle/input/microsoft-azure-predictive-maintenance/PdM_machines.csv\n",
      "/kaggle/input/microsoft-azure-predictive-maintenance/PdM_maint.csv\n"
     ]
    }
   ],
   "source": [
    "# This Python 3 environment comes with many helpful analytics libraries installed\n",
    "# It is defined by the kaggle/python Docker image: https://github.com/kaggle/docker-python\n",
    "# For example, here's several helpful packages to load\n",
    "\n",
    "import numpy as np # linear algebra\n",
    "import pandas as pd # data processing, CSV file I/O (e.g. pd.read_csv)\n",
    "\n",
    "# Input data files are available in the read-only \"../input/\" directory\n",
    "# For example, running this (by clicking run or pressing Shift+Enter) will list all files under the input directory\n",
    "\n",
    "import os\n",
    "for dirname, _, filenames in os.walk('/kaggle/input'):\n",
    "    for filename in filenames:\n",
    "        print(os.path.join(dirname, filename))\n",
    "\n",
    "# You can write up to 20GB to the current directory (/kaggle/working/) that gets preserved as output when you create a version using \"Save & Run All\" \n",
    "# You can also write temporary files to /kaggle/temp/, but they won't be saved outside of the current session"
   ]
  },
  {
   "cell_type": "code",
   "execution_count": 2,
   "id": "3d95ed27",
   "metadata": {
    "execution": {
     "iopub.execute_input": "2022-12-08T05:17:49.454270Z",
     "iopub.status.busy": "2022-12-08T05:17:49.453462Z",
     "iopub.status.idle": "2022-12-08T05:17:49.461184Z",
     "shell.execute_reply": "2022-12-08T05:17:49.460312Z"
    },
    "papermill": {
     "duration": 0.033906,
     "end_time": "2022-12-08T05:17:49.463518",
     "exception": false,
     "start_time": "2022-12-08T05:17:49.429612",
     "status": "completed"
    },
    "tags": []
   },
   "outputs": [],
   "source": [
    "import os\n",
    "import sys\n",
    "\n",
    "import pandas as pd\n",
    "import numpy as np\n",
    "import matplotlib\n",
    "import matplotlib.pyplot as plt\n",
    "\n",
    "matplotlib.style.use(\"Solarize_Light2\")\n",
    "\n",
    "%matplotlib inline"
   ]
  },
  {
   "cell_type": "markdown",
   "id": "5a3137ef",
   "metadata": {
    "papermill": {
     "duration": 0.022148,
     "end_time": "2022-12-08T05:17:49.507965",
     "exception": false,
     "start_time": "2022-12-08T05:17:49.485817",
     "status": "completed"
    },
    "tags": []
   },
   "source": [
    "## Import To Dataset :"
   ]
  },
  {
   "cell_type": "code",
   "execution_count": 3,
   "id": "58248062",
   "metadata": {
    "execution": {
     "iopub.execute_input": "2022-12-08T05:17:49.555112Z",
     "iopub.status.busy": "2022-12-08T05:17:49.554275Z",
     "iopub.status.idle": "2022-12-08T05:17:52.018897Z",
     "shell.execute_reply": "2022-12-08T05:17:52.017690Z"
    },
    "papermill": {
     "duration": 2.491577,
     "end_time": "2022-12-08T05:17:52.021838",
     "exception": false,
     "start_time": "2022-12-08T05:17:49.530261",
     "status": "completed"
    },
    "tags": []
   },
   "outputs": [],
   "source": [
    "data_path = \"/kaggle/input/microsoft-azure-predictive-maintenance/\"\n",
    "\n",
    "dataset_telemetry = pd.read_csv(f\"{data_path}/PdM_telemetry.csv\")\n",
    "\n",
    "dataset_errors = pd.read_csv(f\"{data_path}/PdM_errors.csv\")\n",
    "\n",
    "dataset_maintenance = pd.read_csv(f\"{data_path}/PdM_maint.csv\")\n",
    "\n",
    "dataset_failures = pd.read_csv(f\"{data_path}/PdM_failures.csv\")\n",
    "\n",
    "dataset_machines = pd.read_csv(f\"{data_path}/PdM_machines.csv\")\n",
    "\n",
    "# Changing format's of date-time columns. Sort based on date for better readability\n",
    "tables = [dataset_telemetry, dataset_maintenance, dataset_failures, dataset_errors]\n",
    "for dataset in tables:\n",
    "    dataset[\"datetime\"] = pd.to_datetime(dataset[\"datetime\"], format=\"%Y-%m-%d %H:%M:%S\")\n",
    "    dataset.sort_values([\"datetime\", \"machineID\"], inplace=True, ignore_index=True)\n"
   ]
  },
  {
   "cell_type": "markdown",
   "id": "dce4dadf",
   "metadata": {
    "papermill": {
     "duration": 0.022703,
     "end_time": "2022-12-08T05:17:52.072713",
     "exception": false,
     "start_time": "2022-12-08T05:17:52.050010",
     "status": "completed"
    },
    "tags": []
   },
   "source": [
    "# Creating Functions of the Study:"
   ]
  },
  {
   "cell_type": "code",
   "execution_count": 4,
   "id": "f947634c",
   "metadata": {
    "execution": {
     "iopub.execute_input": "2022-12-08T05:17:52.119535Z",
     "iopub.status.busy": "2022-12-08T05:17:52.119148Z",
     "iopub.status.idle": "2022-12-08T05:17:52.148595Z",
     "shell.execute_reply": "2022-12-08T05:17:52.147581Z"
    },
    "papermill": {
     "duration": 0.056073,
     "end_time": "2022-12-08T05:17:52.151258",
     "exception": false,
     "start_time": "2022-12-08T05:17:52.095185",
     "status": "completed"
    },
    "tags": []
   },
   "outputs": [],
   "source": [
    "def check_null(dataset):\n",
    "    \"\"\"\n",
    "    Returns percentage of rows containing missing data\n",
    "    \"\"\"\n",
    "    return dataset.isna().sum() * 100/len(dataset)\n",
    "\n",
    "\n",
    "def get_missing_dates(series, start_date, end_date, freq=\"D\"):\n",
    "    \"\"\"\n",
    "    Returns the dates which are missing in the series\n",
    "    date_sr between the start_date and end_date\n",
    "    \n",
    "    series: Series consisting of date\n",
    "    start_date: Start date in String format\n",
    "    end_date: End date in String format\n",
    "    \"\"\"\n",
    "    return pd.date_range(\n",
    "        start=start_date, end=end_date, freq=freq).difference(series)\n",
    "\n",
    "\n",
    "def check_duplicate(dataset, subset):\n",
    "    \"\"\"\n",
    "    Returns if there are any duplicate rows in the DataFrame.\n",
    "    \n",
    "    df: DataFrame under consideration\n",
    "    subset: Optional List of feature names based on which \n",
    "            duplicate rows are being identified. \n",
    "    \"\"\"\n",
    "    if subset is not None: \n",
    "        return dataset.duplicated(subset=subset, keep=False).sum()\n",
    "    else:\n",
    "        return dataset.duplicated(keep=False).sum()\n",
    "\n",
    "\n",
    "def create_date_features(source_df, target_df, feature_name):\n",
    "    '''\n",
    "    Create new features related to dates\n",
    "    \n",
    "    source_df : DataFrame consisting of the timestamp related feature\n",
    "    target_df : DataFrame where new features will be added\n",
    "    feature_name : Name of the feature of date type which needs to be decomposed.\n",
    "    '''\n",
    "    target_df.loc[:, 'year'] = source_df.loc[:, feature_name].dt.year.astype('uint16')\n",
    "    target_df.loc[:, 'month'] = source_df.loc[:, feature_name].dt.month.astype('uint8')\n",
    "    target_df.loc[:, 'quarter'] = source_df.loc[:, feature_name].dt.quarter.astype('uint8')\n",
    "    target_df.loc[:, 'weekofyear'] = source_df.loc[:, feature_name].dt.isocalendar().week.astype('uint8')\n",
    "    \n",
    "    target_df.loc[:, 'hour'] = source_df.loc[:, feature_name].dt.hour.astype('uint8')\n",
    "    \n",
    "    target_df.loc[:, 'day'] = source_df.loc[:, feature_name].dt.day.astype('uint8')\n",
    "    target_df.loc[:, 'dayofweek'] = source_df.loc[:, feature_name].dt.dayofweek.astype('uint8')\n",
    "    target_df.loc[:, 'dayofyear'] = source_df.loc[:, feature_name].dt.dayofyear.astype('uint8')\n",
    "    target_df.loc[:, 'is_month_start'] = source_df.loc[:, feature_name].dt.is_month_start\n",
    "    target_df.loc[:, 'is_month_end'] = source_df.loc[:, feature_name].dt.is_month_end\n",
    "    target_df.loc[:, 'is_quarter_start']= source_df.loc[:, feature_name].dt.is_quarter_start\n",
    "    target_df.loc[:, 'is_quarter_end'] = source_df.loc[:, feature_name].dt.is_quarter_end\n",
    "    target_df.loc[:, 'is_year_start'] = source_df.loc[:, feature_name].dt.is_year_start\n",
    "    target_df.loc[:, 'is_year_end'] = source_df.loc[:, feature_name].dt.is_year_end\n",
    "    \n",
    "    # This is of type object\n",
    "    target_df.loc[:, 'month_year'] = source_df.loc[:, feature_name].dt.to_period('M')\n",
    "    \n",
    "    return target_df\n",
    "\n",
    "\n",
    "def plot_boxh_groupby(dataset, feature_name, by):\n",
    "    \"\"\"\n",
    "    Box plot with groupby\n",
    "    \n",
    "    df: DataFrame\n",
    "    feature_name: Name of the feature to be plotted\n",
    "    by: Name of the feature based on which groups are created\n",
    "    \"\"\"\n",
    "    dataset.boxplot(column=feature_name, by=by, vert=False, \n",
    "                              figsize=(10, 6))\n",
    "    plt.title(f'Distribution of {feature_name} by {by}')\n",
    "    plt.show()\n",
    "    \n",
    "\n",
    "def plot_hist(dataset, feature_name, kind='hist', bins=100, log=True):\n",
    "    \"\"\"\n",
    "    Plot histogram.\n",
    "    \n",
    "    df: DataFrame\n",
    "    feature_name: Name of the feature to be plotted.\n",
    "    \"\"\"\n",
    "    if log:\n",
    "        dataset[feature_name].apply(np.log1p).plot(kind='hist', \n",
    "                                              bins=bins, \n",
    "                                              figsize=(15, 5), \n",
    "                                              title=f'Distribution of log1p[{feature_name}]')\n",
    "    else:\n",
    "        dataset[feature_name].plot(kind='hist', \n",
    "                              bins=bins, \n",
    "                              figsize=(15, 5), \n",
    "                              title=f'Distribution of {feature_name}')\n",
    "    plt.show()\n",
    "\n",
    "\n",
    "def plot_ts(series, figsize=(20, 6), title=None, xlabel=\"\", ylabel=\"\"):\n",
    "    \"\"\"\n",
    "    Plot Time Series data. The series object should have date or time as index.\n",
    "    \n",
    "    series: Series object to be plotted.\n",
    "    \"\"\"\n",
    "    series.plot(figsize=figsize, title=title)\n",
    "    plt.xlabel(xlabel)\n",
    "    plt.ylabel(ylabel)\n",
    "    plt.show()\n",
    "\n",
    "\n",
    "def plot_barh(dataset, feature_name, normalize=True, \n",
    "              kind='barh', figsize=(15,5), sort_index=False, title=None):\n",
    "    \"\"\"\n",
    "    Plot barh for a particular feature\n",
    "    \n",
    "    kind : Type of the plot\n",
    "    \n",
    "    \"\"\"\n",
    "    if sort_index==True:\n",
    "        dataset[feature_name].value_counts(\n",
    "                normalize=normalize, dropna=False).sort_index().plot(\n",
    "                kind=kind, figsize=figsize, grid=True,\n",
    "                title=title)\n",
    "    else:   \n",
    "        dataset[feature_name].value_counts(\n",
    "                normalize=normalize, dropna=False).sort_values().plot(\n",
    "                kind=kind, figsize=figsize, grid=True,\n",
    "                title=title)\n",
    "    \n",
    "    plt.legend()\n",
    "    plt.show()\n",
    "\n",
    "\n",
    "def plot_boxh(dataset, feature_name, kind='box', log=True):\n",
    "    \"\"\"\n",
    "    Box plot\n",
    "    \"\"\"\n",
    "    if log:\n",
    "        dataset[feature_name].apply(np.log1p).plot(kind='box', vert=False, \n",
    "                                                  figsize=(10, 6), \n",
    "                                                  title=f'Distribution of log1p[{feature_name}]')\n",
    "    else:\n",
    "        dataset[feature_name].plot(kind='box', vert=False, \n",
    "                              figsize=(10, 6), \n",
    "                              title=f'Distribution of {feature_name}')\n",
    "    plt.show()\n",
    "    \n",
    "\n",
    "def plot_scatter(dataset, feature_x, feature_y, figsize=(10,10), \n",
    "                 title=None, xlabel=None, ylabel=None):\n",
    "    \"\"\"\n",
    "    Plot satter     \n",
    "    \"\"\"\n",
    "    dataset.plot.scatter(feature_x, feature_y, \n",
    "                    figsize=(8, 6), title=title, \n",
    "                    legend=None)\n",
    "    plt.xlabel(xlabel)\n",
    "    plt.ylabel(ylabel)\n",
    "    plt.show()\n",
    "    \n",
    "\n",
    "def upper_col_name(dataset):\n",
    "    upper_cols = [col.upper() for col in dataset.columns]\n",
    "    dataset.columns = upper_cols\n",
    "    return dataset.head()"
   ]
  },
  {
   "cell_type": "code",
   "execution_count": 5,
   "id": "f6dd92fe",
   "metadata": {
    "execution": {
     "iopub.execute_input": "2022-12-08T05:17:52.197818Z",
     "iopub.status.busy": "2022-12-08T05:17:52.197415Z",
     "iopub.status.idle": "2022-12-08T05:17:52.217679Z",
     "shell.execute_reply": "2022-12-08T05:17:52.216586Z"
    },
    "papermill": {
     "duration": 0.046381,
     "end_time": "2022-12-08T05:17:52.220024",
     "exception": false,
     "start_time": "2022-12-08T05:17:52.173643",
     "status": "completed"
    },
    "tags": []
   },
   "outputs": [
    {
     "data": {
      "text/html": [
       "<div>\n",
       "<style scoped>\n",
       "    .dataframe tbody tr th:only-of-type {\n",
       "        vertical-align: middle;\n",
       "    }\n",
       "\n",
       "    .dataframe tbody tr th {\n",
       "        vertical-align: top;\n",
       "    }\n",
       "\n",
       "    .dataframe thead th {\n",
       "        text-align: right;\n",
       "    }\n",
       "</style>\n",
       "<table border=\"1\" class=\"dataframe\">\n",
       "  <thead>\n",
       "    <tr style=\"text-align: right;\">\n",
       "      <th></th>\n",
       "      <th>DATETIME</th>\n",
       "      <th>MACHINEID</th>\n",
       "      <th>VOLT</th>\n",
       "      <th>ROTATE</th>\n",
       "      <th>PRESSURE</th>\n",
       "      <th>VIBRATION</th>\n",
       "    </tr>\n",
       "  </thead>\n",
       "  <tbody>\n",
       "    <tr>\n",
       "      <th>0</th>\n",
       "      <td>2015-01-01 06:00:00</td>\n",
       "      <td>1</td>\n",
       "      <td>176.217853</td>\n",
       "      <td>418.504078</td>\n",
       "      <td>113.077935</td>\n",
       "      <td>45.087686</td>\n",
       "    </tr>\n",
       "    <tr>\n",
       "      <th>1</th>\n",
       "      <td>2015-01-01 06:00:00</td>\n",
       "      <td>2</td>\n",
       "      <td>176.558913</td>\n",
       "      <td>424.624162</td>\n",
       "      <td>76.005332</td>\n",
       "      <td>43.767049</td>\n",
       "    </tr>\n",
       "    <tr>\n",
       "      <th>2</th>\n",
       "      <td>2015-01-01 06:00:00</td>\n",
       "      <td>3</td>\n",
       "      <td>185.482043</td>\n",
       "      <td>461.211137</td>\n",
       "      <td>87.453199</td>\n",
       "      <td>28.216864</td>\n",
       "    </tr>\n",
       "    <tr>\n",
       "      <th>3</th>\n",
       "      <td>2015-01-01 06:00:00</td>\n",
       "      <td>4</td>\n",
       "      <td>169.710847</td>\n",
       "      <td>463.646727</td>\n",
       "      <td>95.929877</td>\n",
       "      <td>38.400372</td>\n",
       "    </tr>\n",
       "    <tr>\n",
       "      <th>4</th>\n",
       "      <td>2015-01-01 06:00:00</td>\n",
       "      <td>5</td>\n",
       "      <td>165.082899</td>\n",
       "      <td>452.283576</td>\n",
       "      <td>84.591722</td>\n",
       "      <td>40.298803</td>\n",
       "    </tr>\n",
       "  </tbody>\n",
       "</table>\n",
       "</div>"
      ],
      "text/plain": [
       "             DATETIME  MACHINEID        VOLT      ROTATE    PRESSURE  \\\n",
       "0 2015-01-01 06:00:00          1  176.217853  418.504078  113.077935   \n",
       "1 2015-01-01 06:00:00          2  176.558913  424.624162   76.005332   \n",
       "2 2015-01-01 06:00:00          3  185.482043  461.211137   87.453199   \n",
       "3 2015-01-01 06:00:00          4  169.710847  463.646727   95.929877   \n",
       "4 2015-01-01 06:00:00          5  165.082899  452.283576   84.591722   \n",
       "\n",
       "   VIBRATION  \n",
       "0  45.087686  \n",
       "1  43.767049  \n",
       "2  28.216864  \n",
       "3  38.400372  \n",
       "4  40.298803  "
      ]
     },
     "execution_count": 5,
     "metadata": {},
     "output_type": "execute_result"
    }
   ],
   "source": [
    "upper_col_name(dataset_telemetry)"
   ]
  },
  {
   "cell_type": "markdown",
   "id": "7d39088f",
   "metadata": {
    "papermill": {
     "duration": 0.022245,
     "end_time": "2022-12-08T05:17:52.264974",
     "exception": false,
     "start_time": "2022-12-08T05:17:52.242729",
     "status": "completed"
    },
    "tags": []
   },
   "source": [
    "# Telemetry Dataset : "
   ]
  },
  {
   "cell_type": "code",
   "execution_count": 6,
   "id": "b0af1885",
   "metadata": {
    "execution": {
     "iopub.execute_input": "2022-12-08T05:17:52.314851Z",
     "iopub.status.busy": "2022-12-08T05:17:52.313690Z",
     "iopub.status.idle": "2022-12-08T05:17:52.329637Z",
     "shell.execute_reply": "2022-12-08T05:17:52.328140Z"
    },
    "papermill": {
     "duration": 0.042763,
     "end_time": "2022-12-08T05:17:52.332529",
     "exception": false,
     "start_time": "2022-12-08T05:17:52.289766",
     "status": "completed"
    },
    "tags": []
   },
   "outputs": [
    {
     "name": "stdout",
     "output_type": "stream",
     "text": [
      "Overview of the Telemetry Dataset: (876100, 6)\n",
      "\n",
      "\n"
     ]
    },
    {
     "data": {
      "text/html": [
       "<div>\n",
       "<style scoped>\n",
       "    .dataframe tbody tr th:only-of-type {\n",
       "        vertical-align: middle;\n",
       "    }\n",
       "\n",
       "    .dataframe tbody tr th {\n",
       "        vertical-align: top;\n",
       "    }\n",
       "\n",
       "    .dataframe thead th {\n",
       "        text-align: right;\n",
       "    }\n",
       "</style>\n",
       "<table border=\"1\" class=\"dataframe\">\n",
       "  <thead>\n",
       "    <tr style=\"text-align: right;\">\n",
       "      <th></th>\n",
       "      <th>DATETIME</th>\n",
       "      <th>MACHINEID</th>\n",
       "      <th>VOLT</th>\n",
       "      <th>ROTATE</th>\n",
       "      <th>PRESSURE</th>\n",
       "      <th>VIBRATION</th>\n",
       "    </tr>\n",
       "  </thead>\n",
       "  <tbody>\n",
       "    <tr>\n",
       "      <th>0</th>\n",
       "      <td>2015-01-01 06:00:00</td>\n",
       "      <td>1</td>\n",
       "      <td>176.217853</td>\n",
       "      <td>418.504078</td>\n",
       "      <td>113.077935</td>\n",
       "      <td>45.087686</td>\n",
       "    </tr>\n",
       "    <tr>\n",
       "      <th>1</th>\n",
       "      <td>2015-01-01 06:00:00</td>\n",
       "      <td>2</td>\n",
       "      <td>176.558913</td>\n",
       "      <td>424.624162</td>\n",
       "      <td>76.005332</td>\n",
       "      <td>43.767049</td>\n",
       "    </tr>\n",
       "    <tr>\n",
       "      <th>2</th>\n",
       "      <td>2015-01-01 06:00:00</td>\n",
       "      <td>3</td>\n",
       "      <td>185.482043</td>\n",
       "      <td>461.211137</td>\n",
       "      <td>87.453199</td>\n",
       "      <td>28.216864</td>\n",
       "    </tr>\n",
       "    <tr>\n",
       "      <th>3</th>\n",
       "      <td>2015-01-01 06:00:00</td>\n",
       "      <td>4</td>\n",
       "      <td>169.710847</td>\n",
       "      <td>463.646727</td>\n",
       "      <td>95.929877</td>\n",
       "      <td>38.400372</td>\n",
       "    </tr>\n",
       "    <tr>\n",
       "      <th>4</th>\n",
       "      <td>2015-01-01 06:00:00</td>\n",
       "      <td>5</td>\n",
       "      <td>165.082899</td>\n",
       "      <td>452.283576</td>\n",
       "      <td>84.591722</td>\n",
       "      <td>40.298803</td>\n",
       "    </tr>\n",
       "  </tbody>\n",
       "</table>\n",
       "</div>"
      ],
      "text/plain": [
       "             DATETIME  MACHINEID        VOLT      ROTATE    PRESSURE  \\\n",
       "0 2015-01-01 06:00:00          1  176.217853  418.504078  113.077935   \n",
       "1 2015-01-01 06:00:00          2  176.558913  424.624162   76.005332   \n",
       "2 2015-01-01 06:00:00          3  185.482043  461.211137   87.453199   \n",
       "3 2015-01-01 06:00:00          4  169.710847  463.646727   95.929877   \n",
       "4 2015-01-01 06:00:00          5  165.082899  452.283576   84.591722   \n",
       "\n",
       "   VIBRATION  \n",
       "0  45.087686  \n",
       "1  43.767049  \n",
       "2  28.216864  \n",
       "3  38.400372  \n",
       "4  40.298803  "
      ]
     },
     "execution_count": 6,
     "metadata": {},
     "output_type": "execute_result"
    }
   ],
   "source": [
    "print(f\"Overview of the Telemetry Dataset: {dataset_telemetry.shape}\")\n",
    "print(\"\\n\")\n",
    "dataset_telemetry.head()"
   ]
  },
  {
   "cell_type": "markdown",
   "id": "99062fd1",
   "metadata": {
    "papermill": {
     "duration": 0.022517,
     "end_time": "2022-12-08T05:17:52.378201",
     "exception": false,
     "start_time": "2022-12-08T05:17:52.355684",
     "status": "completed"
    },
    "tags": []
   },
   "source": [
    "-- Descriptive statistics of the telemetry data. For Example:\n",
    "    \n",
    "    - Shape of data,\n",
    "    - Unique values of the features\n",
    "    - First&last 5 rows\n",
    "    - Is there any null values for features?\n",
    "    - What's the quantile values of numerical features"
   ]
  },
  {
   "cell_type": "code",
   "execution_count": 7,
   "id": "68982828",
   "metadata": {
    "execution": {
     "iopub.execute_input": "2022-12-08T05:17:52.426156Z",
     "iopub.status.busy": "2022-12-08T05:17:52.425527Z",
     "iopub.status.idle": "2022-12-08T05:17:52.431764Z",
     "shell.execute_reply": "2022-12-08T05:17:52.430875Z"
    },
    "papermill": {
     "duration": 0.032749,
     "end_time": "2022-12-08T05:17:52.434031",
     "exception": false,
     "start_time": "2022-12-08T05:17:52.401282",
     "status": "completed"
    },
    "tags": []
   },
   "outputs": [],
   "source": [
    "def check_df(dataset,head = 5):\n",
    "    print(\"//////////DataFrame Shape\\\\\\\\\\\\\\\\\\\\\")\n",
    "    print(dataset.shape)\n",
    "    print(\"//////////DataFrame Types\\\\\\\\\\\\\\\\\\\\\")\n",
    "    print(dataset.dtypes)\n",
    "    print(\"//////////DataFrame Head(First 5 rows) \\\\\\\\\\\\\\\\\\\\\")\n",
    "    print(dataset.head(head))\n",
    "    print(\"//////////DataFrame Tail(Last 5 rows) \\\\\\\\\\\\\\\\\\\\\")\n",
    "    print(dataset.tail(head))\n",
    "    print(\"//////////DataFrame NaN Values \\\\\\\\\\\\\\\\\\\\\")\n",
    "    print(dataset.isnull().sum())\n",
    "    print(\"//////////DataFrame Quantiles \\\\\\\\\\\\\\\\\\\\\")\n",
    "    print(dataset.quantile([0,0.25,0.50,0.75,1]).T)"
   ]
  },
  {
   "cell_type": "code",
   "execution_count": 8,
   "id": "fce30964",
   "metadata": {
    "execution": {
     "iopub.execute_input": "2022-12-08T05:17:52.481980Z",
     "iopub.status.busy": "2022-12-08T05:17:52.481317Z",
     "iopub.status.idle": "2022-12-08T05:17:52.656213Z",
     "shell.execute_reply": "2022-12-08T05:17:52.654376Z"
    },
    "papermill": {
     "duration": 0.202262,
     "end_time": "2022-12-08T05:17:52.659364",
     "exception": false,
     "start_time": "2022-12-08T05:17:52.457102",
     "status": "completed"
    },
    "tags": []
   },
   "outputs": [
    {
     "name": "stdout",
     "output_type": "stream",
     "text": [
      "//////////DataFrame Shape\\\\\\\\\\\n",
      "(876100, 6)\n",
      "//////////DataFrame Types\\\\\\\\\\\n",
      "DATETIME     datetime64[ns]\n",
      "MACHINEID             int64\n",
      "VOLT                float64\n",
      "ROTATE              float64\n",
      "PRESSURE            float64\n",
      "VIBRATION           float64\n",
      "dtype: object\n",
      "//////////DataFrame Head(First 5 rows) \\\\\\\\\\\n",
      "             DATETIME  MACHINEID        VOLT      ROTATE    PRESSURE  \\\n",
      "0 2015-01-01 06:00:00          1  176.217853  418.504078  113.077935   \n",
      "1 2015-01-01 06:00:00          2  176.558913  424.624162   76.005332   \n",
      "2 2015-01-01 06:00:00          3  185.482043  461.211137   87.453199   \n",
      "3 2015-01-01 06:00:00          4  169.710847  463.646727   95.929877   \n",
      "4 2015-01-01 06:00:00          5  165.082899  452.283576   84.591722   \n",
      "\n",
      "   VIBRATION  \n",
      "0  45.087686  \n",
      "1  43.767049  \n",
      "2  28.216864  \n",
      "3  38.400372  \n",
      "4  40.298803  \n",
      "//////////DataFrame Tail(Last 5 rows) \\\\\\\\\\\n",
      "                  DATETIME  MACHINEID        VOLT      ROTATE    PRESSURE  \\\n",
      "876095 2016-01-01 06:00:00         96  157.157424  380.691266  102.885777   \n",
      "876096 2016-01-01 06:00:00         97  159.607756  458.143799  100.945230   \n",
      "876097 2016-01-01 06:00:00         98  165.717790  501.520194  114.553412   \n",
      "876098 2016-01-01 06:00:00         99  168.439623  427.990029  107.899979   \n",
      "876099 2016-01-01 06:00:00        100  171.336037  496.096870   79.095538   \n",
      "\n",
      "        VIBRATION  \n",
      "876095  35.445739  \n",
      "876096  40.011599  \n",
      "876097  37.696504  \n",
      "876098  44.193151  \n",
      "876099  37.845245  \n",
      "//////////DataFrame NaN Values \\\\\\\\\\\n",
      "DATETIME     0\n",
      "MACHINEID    0\n",
      "VOLT         0\n",
      "ROTATE       0\n",
      "PRESSURE     0\n",
      "VIBRATION    0\n",
      "dtype: int64\n",
      "//////////DataFrame Quantiles \\\\\\\\\\\n",
      "                 0.00        0.25        0.50        0.75        1.00\n",
      "MACHINEID    1.000000   25.750000   50.500000   75.250000  100.000000\n",
      "VOLT        97.333604  160.304927  170.607338  181.004493  255.124717\n",
      "ROTATE     138.432075  412.305714  447.558150  482.176600  695.020984\n",
      "PRESSURE    51.237106   93.498181  100.425559  107.555231  185.951998\n",
      "VIBRATION   14.877054   36.777299   40.237247   43.784938   76.791072\n"
     ]
    }
   ],
   "source": [
    "check_df(dataset_telemetry)"
   ]
  },
  {
   "cell_type": "markdown",
   "id": "37d21c79",
   "metadata": {
    "papermill": {
     "duration": 0.022762,
     "end_time": "2022-12-08T05:17:52.705713",
     "exception": false,
     "start_time": "2022-12-08T05:17:52.682951",
     "status": "completed"
    },
    "tags": []
   },
   "source": [
    "## What is the time period in which the dataset was record?"
   ]
  },
  {
   "cell_type": "code",
   "execution_count": 9,
   "id": "a6286e3f",
   "metadata": {
    "execution": {
     "iopub.execute_input": "2022-12-08T05:17:52.753629Z",
     "iopub.status.busy": "2022-12-08T05:17:52.753220Z",
     "iopub.status.idle": "2022-12-08T05:17:52.781374Z",
     "shell.execute_reply": "2022-12-08T05:17:52.780250Z"
    },
    "papermill": {
     "duration": 0.054937,
     "end_time": "2022-12-08T05:17:52.783828",
     "exception": false,
     "start_time": "2022-12-08T05:17:52.728891",
     "status": "completed"
    },
    "tags": []
   },
   "outputs": [
    {
     "data": {
      "text/plain": [
       "count                 876100\n",
       "mean     2015-07-02 18:00:00\n",
       "min      2015-01-01 06:00:00\n",
       "25%      2015-04-02 12:00:00\n",
       "50%      2015-07-02 18:00:00\n",
       "75%      2015-10-02 00:00:00\n",
       "max      2016-01-01 06:00:00\n",
       "Name: DATETIME, dtype: object"
      ]
     },
     "execution_count": 9,
     "metadata": {},
     "output_type": "execute_result"
    }
   ],
   "source": [
    "dataset_telemetry.DATETIME.describe(datetime_is_numeric=True)"
   ]
  },
  {
   "cell_type": "markdown",
   "id": "c83a91f0",
   "metadata": {
    "papermill": {
     "duration": 0.023178,
     "end_time": "2022-12-08T05:17:52.830069",
     "exception": false,
     "start_time": "2022-12-08T05:17:52.806891",
     "status": "completed"
    },
    "tags": []
   },
   "source": [
    "- Telemetry values is distributed 1st Jan 2015 - 1st Jan 2016\n",
    "\n",
    "- As we can see the datetime values having hourly frequency.\n",
    "\n",
    "- Now, we can check to NaN values for dataset."
   ]
  },
  {
   "cell_type": "markdown",
   "id": "6faeac0a",
   "metadata": {
    "papermill": {
     "duration": 0.022943,
     "end_time": "2022-12-08T05:17:52.877807",
     "exception": false,
     "start_time": "2022-12-08T05:17:52.854864",
     "status": "completed"
    },
    "tags": []
   },
   "source": [
    "## Are there any NaN value in DATETIME feature ?"
   ]
  },
  {
   "cell_type": "code",
   "execution_count": 10,
   "id": "c5b8ba43",
   "metadata": {
    "execution": {
     "iopub.execute_input": "2022-12-08T05:17:52.926371Z",
     "iopub.status.busy": "2022-12-08T05:17:52.925968Z",
     "iopub.status.idle": "2022-12-08T05:17:52.972648Z",
     "shell.execute_reply": "2022-12-08T05:17:52.971372Z"
    },
    "papermill": {
     "duration": 0.074009,
     "end_time": "2022-12-08T05:17:52.975057",
     "exception": false,
     "start_time": "2022-12-08T05:17:52.901048",
     "status": "completed"
    },
    "tags": []
   },
   "outputs": [
    {
     "data": {
      "text/plain": [
       "DatetimeIndex([], dtype='datetime64[ns]', freq=None)"
      ]
     },
     "execution_count": 10,
     "metadata": {},
     "output_type": "execute_result"
    }
   ],
   "source": [
    "get_missing_dates(dataset_telemetry[\"DATETIME\"], \n",
    "                  start_date= dataset_telemetry[\"DATETIME\"].min(), \n",
    "                  end_date=dataset_telemetry[\"DATETIME\"].max(), \n",
    "                  freq='H')"
   ]
  },
  {
   "cell_type": "markdown",
   "id": "85f57fa8",
   "metadata": {
    "papermill": {
     "duration": 0.027954,
     "end_time": "2022-12-08T05:17:53.027998",
     "exception": false,
     "start_time": "2022-12-08T05:17:53.000044",
     "status": "completed"
    },
    "tags": []
   },
   "source": [
    "- There is no NaN data .\n",
    "\n",
    "- Multiplexed data may create noise in our study and cause our model to make inaccurate inferences. So we check if there are any duplicate rows of data."
   ]
  },
  {
   "cell_type": "markdown",
   "id": "9873c2e5",
   "metadata": {
    "papermill": {
     "duration": 0.029908,
     "end_time": "2022-12-08T05:17:53.091858",
     "exception": false,
     "start_time": "2022-12-08T05:17:53.061950",
     "status": "completed"
    },
    "tags": []
   },
   "source": [
    "## Are there any dublicated value ?"
   ]
  },
  {
   "cell_type": "markdown",
   "id": "8a4c1b55",
   "metadata": {
    "papermill": {
     "duration": 0.024136,
     "end_time": "2022-12-08T05:17:53.141325",
     "exception": false,
     "start_time": "2022-12-08T05:17:53.117189",
     "status": "completed"
    },
    "tags": []
   },
   "source": [
    "One Machine should not have multiple rows with the same time stamp."
   ]
  },
  {
   "cell_type": "code",
   "execution_count": 11,
   "id": "6a6e3bcb",
   "metadata": {
    "execution": {
     "iopub.execute_input": "2022-12-08T05:17:53.189428Z",
     "iopub.status.busy": "2022-12-08T05:17:53.189030Z",
     "iopub.status.idle": "2022-12-08T05:17:53.244047Z",
     "shell.execute_reply": "2022-12-08T05:17:53.242934Z"
    },
    "papermill": {
     "duration": 0.081861,
     "end_time": "2022-12-08T05:17:53.246410",
     "exception": false,
     "start_time": "2022-12-08T05:17:53.164549",
     "status": "completed"
    },
    "tags": []
   },
   "outputs": [
    {
     "data": {
      "text/plain": [
       "0"
      ]
     },
     "execution_count": 11,
     "metadata": {},
     "output_type": "execute_result"
    }
   ],
   "source": [
    "check_duplicate(dataset_telemetry, ['DATETIME', 'MACHINEID'])"
   ]
  },
  {
   "cell_type": "markdown",
   "id": "964615a9",
   "metadata": {
    "papermill": {
     "duration": 0.023611,
     "end_time": "2022-12-08T05:17:53.294540",
     "exception": false,
     "start_time": "2022-12-08T05:17:53.270929",
     "status": "completed"
    },
    "tags": []
   },
   "source": [
    "-- Well, as we can see, there is no dublicates in the dataset.\n",
    "\n",
    "-- We have check to NaN value for DATETIME feature. But, we have to check null values for other features of dataset. "
   ]
  },
  {
   "cell_type": "markdown",
   "id": "95b18fa9",
   "metadata": {
    "papermill": {
     "duration": 0.023578,
     "end_time": "2022-12-08T05:17:53.341951",
     "exception": false,
     "start_time": "2022-12-08T05:17:53.318373",
     "status": "completed"
    },
    "tags": []
   },
   "source": [
    "## Are There Any NaN values in the Dataset ? "
   ]
  },
  {
   "cell_type": "code",
   "execution_count": 12,
   "id": "4697a312",
   "metadata": {
    "execution": {
     "iopub.execute_input": "2022-12-08T05:17:53.392549Z",
     "iopub.status.busy": "2022-12-08T05:17:53.391672Z",
     "iopub.status.idle": "2022-12-08T05:17:53.410325Z",
     "shell.execute_reply": "2022-12-08T05:17:53.409513Z"
    },
    "papermill": {
     "duration": 0.047002,
     "end_time": "2022-12-08T05:17:53.412872",
     "exception": false,
     "start_time": "2022-12-08T05:17:53.365870",
     "status": "completed"
    },
    "tags": []
   },
   "outputs": [
    {
     "data": {
      "text/plain": [
       "DATETIME     0.0\n",
       "MACHINEID    0.0\n",
       "VOLT         0.0\n",
       "ROTATE       0.0\n",
       "PRESSURE     0.0\n",
       "VIBRATION    0.0\n",
       "dtype: float64"
      ]
     },
     "execution_count": 12,
     "metadata": {},
     "output_type": "execute_result"
    }
   ],
   "source": [
    "check_null(dataset_telemetry)"
   ]
  },
  {
   "cell_type": "markdown",
   "id": "06746cb9",
   "metadata": {
    "papermill": {
     "duration": 0.023467,
     "end_time": "2022-12-08T05:17:53.461235",
     "exception": false,
     "start_time": "2022-12-08T05:17:53.437768",
     "status": "completed"
    },
    "tags": []
   },
   "source": [
    "- There is no missing values in the data. That's good stution for our study.\n",
    "\n",
    "- Okay, now, we can create some plots using by the features something like, Vibration, Voltage etc."
   ]
  },
  {
   "cell_type": "markdown",
   "id": "6fe72167",
   "metadata": {
    "papermill": {
     "duration": 0.023077,
     "end_time": "2022-12-08T05:17:53.508582",
     "exception": false,
     "start_time": "2022-12-08T05:17:53.485505",
     "status": "completed"
    },
    "tags": []
   },
   "source": [
    "## Plots about Numerical Feature's of Machines"
   ]
  },
  {
   "cell_type": "markdown",
   "id": "3d413c45",
   "metadata": {
    "papermill": {
     "duration": 0.022907,
     "end_time": "2022-12-08T05:17:53.555135",
     "exception": false,
     "start_time": "2022-12-08T05:17:53.532228",
     "status": "completed"
    },
    "tags": []
   },
   "source": [
    "### 1. Vibraiton Values of Machine 1 for 2015 Period:"
   ]
  },
  {
   "cell_type": "code",
   "execution_count": 13,
   "id": "8bab2b17",
   "metadata": {
    "execution": {
     "iopub.execute_input": "2022-12-08T05:17:53.604380Z",
     "iopub.status.busy": "2022-12-08T05:17:53.603078Z",
     "iopub.status.idle": "2022-12-08T05:17:53.614745Z",
     "shell.execute_reply": "2022-12-08T05:17:53.613951Z"
    },
    "papermill": {
     "duration": 0.038934,
     "end_time": "2022-12-08T05:17:53.617362",
     "exception": false,
     "start_time": "2022-12-08T05:17:53.578428",
     "status": "completed"
    },
    "tags": []
   },
   "outputs": [],
   "source": [
    "df_vib_machine_1 = dataset_telemetry.loc[(dataset_telemetry[\"MACHINEID\"] == 1),(\"DATETIME\", \"VIBRATION\")].set_index(\"DATETIME\")"
   ]
  },
  {
   "cell_type": "code",
   "execution_count": 14,
   "id": "7a3c38e7",
   "metadata": {
    "execution": {
     "iopub.execute_input": "2022-12-08T05:17:53.666662Z",
     "iopub.status.busy": "2022-12-08T05:17:53.665628Z",
     "iopub.status.idle": "2022-12-08T05:17:54.244875Z",
     "shell.execute_reply": "2022-12-08T05:17:54.244007Z"
    },
    "papermill": {
     "duration": 0.605957,
     "end_time": "2022-12-08T05:17:54.247031",
     "exception": false,
     "start_time": "2022-12-08T05:17:53.641074",
     "status": "completed"
    },
    "tags": []
   },
   "outputs": [
    {
     "data": {
      "image/png": "[encoded data removed]",
      "text/plain": [
       "<Figure size 1440x432 with 1 Axes>"
      ]
     },
     "metadata": {
      "needs_background": "light"
     },
     "output_type": "display_data"
    }
   ],
   "source": [
    "plot_ts(df_vib_machine_1, title=\"Vibration of Machine 1\", xlabel=\"Time\", ylabel=\"Vibration\")"
   ]
  },
  {
   "cell_type": "markdown",
   "id": "c1d44c7e",
   "metadata": {
    "papermill": {
     "duration": 0.024498,
     "end_time": "2022-12-08T05:17:54.296079",
     "exception": false,
     "start_time": "2022-12-08T05:17:54.271581",
     "status": "completed"
    },
    "tags": []
   },
   "source": [
    "- It looks a little complicated. But when we examine it a little carefully, we can see that the vibration values are between 30-50, above the 60 vibration values of the outliers; It is also possible to see that it occurs below 30 vibration values."
   ]
  },
  {
   "cell_type": "markdown",
   "id": "5d3c01c7",
   "metadata": {
    "papermill": {
     "duration": 0.024233,
     "end_time": "2022-12-08T05:17:54.347687",
     "exception": false,
     "start_time": "2022-12-08T05:17:54.323454",
     "status": "completed"
    },
    "tags": []
   },
   "source": [
    "### 2. Voltage Values of Machine 2 for 2015 Period:"
   ]
  },
  {
   "cell_type": "code",
   "execution_count": 15,
   "id": "a7677274",
   "metadata": {
    "execution": {
     "iopub.execute_input": "2022-12-08T05:17:54.399082Z",
     "iopub.status.busy": "2022-12-08T05:17:54.398636Z",
     "iopub.status.idle": "2022-12-08T05:17:55.096084Z",
     "shell.execute_reply": "2022-12-08T05:17:55.094798Z"
    },
    "papermill": {
     "duration": 0.727332,
     "end_time": "2022-12-08T05:17:55.099861",
     "exception": false,
     "start_time": "2022-12-08T05:17:54.372529",
     "status": "completed"
    },
    "tags": []
   },
   "outputs": [
    {
     "data": {
      "image/png": "[encoded data removed]",
      "text/plain": [
       "<Figure size 1440x432 with 1 Axes>"
      ]
     },
     "metadata": {
      "needs_background": "light"
     },
     "output_type": "display_data"
    }
   ],
   "source": [
    "dataset_telemetry.loc[(dataset_telemetry[\"MACHINEID\"] == 1),(\"DATETIME\", \"VIBRATION\")].set_index(\"DATETIME\")\n",
    "\n",
    "# Let's plot voltage of Machine 2 for 1st two weeks of 2015\n",
    "df_vib_machine_1 = dataset_telemetry.loc[(dataset_telemetry[\"MACHINEID\"] == 2) & (dataset_telemetry[\"DATETIME\"].dt.isocalendar().week.isin(\n",
    "                                            [1, 2, 3]))][[\"DATETIME\", \"VOLT\"]].set_index(\"DATETIME\")\n",
    "     \n",
    "      \n",
    "            \n",
    "plot_ts(df_vib_machine_1, title=\"Volatage of Machine 2\", xlabel=\"Time\", ylabel=\"Voltage\")"
   ]
  },
  {
   "cell_type": "markdown",
   "id": "96fefc16",
   "metadata": {
    "papermill": {
     "duration": 0.026165,
     "end_time": "2022-12-08T05:17:55.152623",
     "exception": false,
     "start_time": "2022-12-08T05:17:55.126458",
     "status": "completed"
    },
    "tags": []
   },
   "source": [
    "- We looked at the vibration value for Machine 1 and the Volt value for Machine 2 in time breakdown. Now we can create some new sub-variables by doing feature engineering from our DATETIME variable. For example, we generate variables that show which day of the week the relevant date is, and whether the relevant date is the end of the month or the beginning of the month. The reason why we produce these variables is the concern of obtaining a certain rule of the errors that occur in the machines. For example, while some production tools are working much more efficiently at the beginning of the week, this working performance can also trigger an error. Or other factors that occur over time in different scenarios may affect the breakdown of the relevant machine."
   ]
  },
  {
   "cell_type": "code",
   "execution_count": 16,
   "id": "facc9900",
   "metadata": {
    "execution": {
     "iopub.execute_input": "2022-12-08T05:17:55.207192Z",
     "iopub.status.busy": "2022-12-08T05:17:55.206734Z",
     "iopub.status.idle": "2022-12-08T05:17:56.603064Z",
     "shell.execute_reply": "2022-12-08T05:17:56.601749Z"
    },
    "papermill": {
     "duration": 1.426883,
     "end_time": "2022-12-08T05:17:56.605970",
     "exception": false,
     "start_time": "2022-12-08T05:17:55.179087",
     "status": "completed"
    },
    "tags": []
   },
   "outputs": [],
   "source": [
    "dataset_telemetry = create_date_features(dataset_telemetry, dataset_telemetry, \"DATETIME\")"
   ]
  },
  {
   "cell_type": "code",
   "execution_count": 17,
   "id": "750ca817",
   "metadata": {
    "execution": {
     "iopub.execute_input": "2022-12-08T05:17:56.661185Z",
     "iopub.status.busy": "2022-12-08T05:17:56.660628Z",
     "iopub.status.idle": "2022-12-08T05:17:56.686548Z",
     "shell.execute_reply": "2022-12-08T05:17:56.685433Z"
    },
    "papermill": {
     "duration": 0.055804,
     "end_time": "2022-12-08T05:17:56.688830",
     "exception": false,
     "start_time": "2022-12-08T05:17:56.633026",
     "status": "completed"
    },
    "tags": []
   },
   "outputs": [
    {
     "data": {
      "text/html": [
       "<div>\n",
       "<style scoped>\n",
       "    .dataframe tbody tr th:only-of-type {\n",
       "        vertical-align: middle;\n",
       "    }\n",
       "\n",
       "    .dataframe tbody tr th {\n",
       "        vertical-align: top;\n",
       "    }\n",
       "\n",
       "    .dataframe thead th {\n",
       "        text-align: right;\n",
       "    }\n",
       "</style>\n",
       "<table border=\"1\" class=\"dataframe\">\n",
       "  <thead>\n",
       "    <tr style=\"text-align: right;\">\n",
       "      <th></th>\n",
       "      <th>DATETIME</th>\n",
       "      <th>MACHINEID</th>\n",
       "      <th>VOLT</th>\n",
       "      <th>ROTATE</th>\n",
       "      <th>PRESSURE</th>\n",
       "      <th>VIBRATION</th>\n",
       "      <th>YEAR</th>\n",
       "      <th>MONTH</th>\n",
       "      <th>QUARTER</th>\n",
       "      <th>WEEKOFYEAR</th>\n",
       "      <th>...</th>\n",
       "      <th>DAY</th>\n",
       "      <th>DAYOFWEEK</th>\n",
       "      <th>DAYOFYEAR</th>\n",
       "      <th>IS_MONTH_START</th>\n",
       "      <th>IS_MONTH_END</th>\n",
       "      <th>IS_QUARTER_START</th>\n",
       "      <th>IS_QUARTER_END</th>\n",
       "      <th>IS_YEAR_START</th>\n",
       "      <th>IS_YEAR_END</th>\n",
       "      <th>MONTH_YEAR</th>\n",
       "    </tr>\n",
       "  </thead>\n",
       "  <tbody>\n",
       "    <tr>\n",
       "      <th>0</th>\n",
       "      <td>2015-01-01 06:00:00</td>\n",
       "      <td>1</td>\n",
       "      <td>176.217853</td>\n",
       "      <td>418.504078</td>\n",
       "      <td>113.077935</td>\n",
       "      <td>45.087686</td>\n",
       "      <td>2015</td>\n",
       "      <td>1</td>\n",
       "      <td>1</td>\n",
       "      <td>1</td>\n",
       "      <td>...</td>\n",
       "      <td>1</td>\n",
       "      <td>3</td>\n",
       "      <td>1</td>\n",
       "      <td>True</td>\n",
       "      <td>False</td>\n",
       "      <td>True</td>\n",
       "      <td>False</td>\n",
       "      <td>True</td>\n",
       "      <td>False</td>\n",
       "      <td>2015-01</td>\n",
       "    </tr>\n",
       "    <tr>\n",
       "      <th>1</th>\n",
       "      <td>2015-01-01 06:00:00</td>\n",
       "      <td>2</td>\n",
       "      <td>176.558913</td>\n",
       "      <td>424.624162</td>\n",
       "      <td>76.005332</td>\n",
       "      <td>43.767049</td>\n",
       "      <td>2015</td>\n",
       "      <td>1</td>\n",
       "      <td>1</td>\n",
       "      <td>1</td>\n",
       "      <td>...</td>\n",
       "      <td>1</td>\n",
       "      <td>3</td>\n",
       "      <td>1</td>\n",
       "      <td>True</td>\n",
       "      <td>False</td>\n",
       "      <td>True</td>\n",
       "      <td>False</td>\n",
       "      <td>True</td>\n",
       "      <td>False</td>\n",
       "      <td>2015-01</td>\n",
       "    </tr>\n",
       "    <tr>\n",
       "      <th>2</th>\n",
       "      <td>2015-01-01 06:00:00</td>\n",
       "      <td>3</td>\n",
       "      <td>185.482043</td>\n",
       "      <td>461.211137</td>\n",
       "      <td>87.453199</td>\n",
       "      <td>28.216864</td>\n",
       "      <td>2015</td>\n",
       "      <td>1</td>\n",
       "      <td>1</td>\n",
       "      <td>1</td>\n",
       "      <td>...</td>\n",
       "      <td>1</td>\n",
       "      <td>3</td>\n",
       "      <td>1</td>\n",
       "      <td>True</td>\n",
       "      <td>False</td>\n",
       "      <td>True</td>\n",
       "      <td>False</td>\n",
       "      <td>True</td>\n",
       "      <td>False</td>\n",
       "      <td>2015-01</td>\n",
       "    </tr>\n",
       "    <tr>\n",
       "      <th>3</th>\n",
       "      <td>2015-01-01 06:00:00</td>\n",
       "      <td>4</td>\n",
       "      <td>169.710847</td>\n",
       "      <td>463.646727</td>\n",
       "      <td>95.929877</td>\n",
       "      <td>38.400372</td>\n",
       "      <td>2015</td>\n",
       "      <td>1</td>\n",
       "      <td>1</td>\n",
       "      <td>1</td>\n",
       "      <td>...</td>\n",
       "      <td>1</td>\n",
       "      <td>3</td>\n",
       "      <td>1</td>\n",
       "      <td>True</td>\n",
       "      <td>False</td>\n",
       "      <td>True</td>\n",
       "      <td>False</td>\n",
       "      <td>True</td>\n",
       "      <td>False</td>\n",
       "      <td>2015-01</td>\n",
       "    </tr>\n",
       "    <tr>\n",
       "      <th>4</th>\n",
       "      <td>2015-01-01 06:00:00</td>\n",
       "      <td>5</td>\n",
       "      <td>165.082899</td>\n",
       "      <td>452.283576</td>\n",
       "      <td>84.591722</td>\n",
       "      <td>40.298803</td>\n",
       "      <td>2015</td>\n",
       "      <td>1</td>\n",
       "      <td>1</td>\n",
       "      <td>1</td>\n",
       "      <td>...</td>\n",
       "      <td>1</td>\n",
       "      <td>3</td>\n",
       "      <td>1</td>\n",
       "      <td>True</td>\n",
       "      <td>False</td>\n",
       "      <td>True</td>\n",
       "      <td>False</td>\n",
       "      <td>True</td>\n",
       "      <td>False</td>\n",
       "      <td>2015-01</td>\n",
       "    </tr>\n",
       "  </tbody>\n",
       "</table>\n",
       "<p>5 rows × 21 columns</p>\n",
       "</div>"
      ],
      "text/plain": [
       "             DATETIME  MACHINEID        VOLT      ROTATE    PRESSURE  \\\n",
       "0 2015-01-01 06:00:00          1  176.217853  418.504078  113.077935   \n",
       "1 2015-01-01 06:00:00          2  176.558913  424.624162   76.005332   \n",
       "2 2015-01-01 06:00:00          3  185.482043  461.211137   87.453199   \n",
       "3 2015-01-01 06:00:00          4  169.710847  463.646727   95.929877   \n",
       "4 2015-01-01 06:00:00          5  165.082899  452.283576   84.591722   \n",
       "\n",
       "   VIBRATION  YEAR  MONTH  QUARTER  WEEKOFYEAR  ...  DAY  DAYOFWEEK  \\\n",
       "0  45.087686  2015      1        1           1  ...    1          3   \n",
       "1  43.767049  2015      1        1           1  ...    1          3   \n",
       "2  28.216864  2015      1        1           1  ...    1          3   \n",
       "3  38.400372  2015      1        1           1  ...    1          3   \n",
       "4  40.298803  2015      1        1           1  ...    1          3   \n",
       "\n",
       "   DAYOFYEAR  IS_MONTH_START  IS_MONTH_END  IS_QUARTER_START  IS_QUARTER_END  \\\n",
       "0          1            True         False              True           False   \n",
       "1          1            True         False              True           False   \n",
       "2          1            True         False              True           False   \n",
       "3          1            True         False              True           False   \n",
       "4          1            True         False              True           False   \n",
       "\n",
       "   IS_YEAR_START  IS_YEAR_END  MONTH_YEAR  \n",
       "0           True        False     2015-01  \n",
       "1           True        False     2015-01  \n",
       "2           True        False     2015-01  \n",
       "3           True        False     2015-01  \n",
       "4           True        False     2015-01  \n",
       "\n",
       "[5 rows x 21 columns]"
      ]
     },
     "execution_count": 17,
     "metadata": {},
     "output_type": "execute_result"
    }
   ],
   "source": [
    "upper_col_name(dataset_telemetry)"
   ]
  },
  {
   "cell_type": "markdown",
   "id": "c921f91c",
   "metadata": {
    "papermill": {
     "duration": 0.026235,
     "end_time": "2022-12-08T05:17:56.742125",
     "exception": false,
     "start_time": "2022-12-08T05:17:56.715890",
     "status": "completed"
    },
    "tags": []
   },
   "source": [
    "### 3. VOLT values of the population over time :"
   ]
  },
  {
   "cell_type": "markdown",
   "id": "b9c645bb",
   "metadata": {
    "papermill": {
     "duration": 0.026409,
     "end_time": "2022-12-08T05:17:56.795174",
     "exception": false,
     "start_time": "2022-12-08T05:17:56.768765",
     "status": "completed"
    },
    "tags": []
   },
   "source": [
    "- We plotted the volt value for Machine. For the ensemble in the dataset, we want to see the distribution of the voltage value over time so let's plot the Volts of the machines in the whole dataset."
   ]
  },
  {
   "cell_type": "code",
   "execution_count": 18,
   "id": "5f9309a4",
   "metadata": {
    "execution": {
     "iopub.execute_input": "2022-12-08T05:17:56.851031Z",
     "iopub.status.busy": "2022-12-08T05:17:56.850363Z",
     "iopub.status.idle": "2022-12-08T05:17:57.947987Z",
     "shell.execute_reply": "2022-12-08T05:17:57.946846Z"
    },
    "papermill": {
     "duration": 1.128886,
     "end_time": "2022-12-08T05:17:57.951030",
     "exception": false,
     "start_time": "2022-12-08T05:17:56.822144",
     "status": "completed"
    },
    "tags": []
   },
   "outputs": [
    {
     "data": {
      "image/png": "[encoded data removed]",
      "text/plain": [
       "<Figure size 720x432 with 1 Axes>"
      ]
     },
     "metadata": {
      "needs_background": "light"
     },
     "output_type": "display_data"
    }
   ],
   "source": [
    "plot_boxh_groupby(dataset_telemetry, feature_name=\"VOLT\", by=\"MONTH_YEAR\")"
   ]
  },
  {
   "cell_type": "markdown",
   "id": "9fb1e7b5",
   "metadata": {
    "papermill": {
     "duration": 0.027986,
     "end_time": "2022-12-08T05:17:58.009396",
     "exception": false,
     "start_time": "2022-12-08T05:17:57.981410",
     "status": "completed"
    },
    "tags": []
   },
   "source": [
    "- There is no noticeable change in Volt value over time. However, as a situation that can be said about the graph, since there was only 1 data point in 2016, this data point should be ignored and comment on the graph should be made. We see that the general population distribution, the average Volt value remains between 160-180.\n",
    "\n",
    "- Let's choose a random machine in the data set and see how this machine's volt value changes over time."
   ]
  },
  {
   "cell_type": "markdown",
   "id": "b2781e26",
   "metadata": {
    "papermill": {
     "duration": 0.028014,
     "end_time": "2022-12-08T05:17:58.065015",
     "exception": false,
     "start_time": "2022-12-08T05:17:58.037001",
     "status": "completed"
    },
    "tags": []
   },
   "source": [
    "### 4. Distribution of Volt values for Machine 80:"
   ]
  },
  {
   "cell_type": "code",
   "execution_count": 19,
   "id": "dca71514",
   "metadata": {
    "execution": {
     "iopub.execute_input": "2022-12-08T05:17:58.122619Z",
     "iopub.status.busy": "2022-12-08T05:17:58.122246Z",
     "iopub.status.idle": "2022-12-08T05:17:58.498554Z",
     "shell.execute_reply": "2022-12-08T05:17:58.497330Z"
    },
    "papermill": {
     "duration": 0.408104,
     "end_time": "2022-12-08T05:17:58.501271",
     "exception": false,
     "start_time": "2022-12-08T05:17:58.093167",
     "status": "completed"
    },
    "tags": []
   },
   "outputs": [
    {
     "data": {
      "image/png": "[encoded data removed]",
      "text/plain": [
       "<Figure size 720x432 with 1 Axes>"
      ]
     },
     "metadata": {
      "needs_background": "light"
     },
     "output_type": "display_data"
    }
   ],
   "source": [
    "plot_boxh_groupby(dataset_telemetry.loc[(dataset_telemetry[\"MACHINEID\"] == 80), :], feature_name=\"VOLT\", by=\"MONTH_YEAR\")"
   ]
  },
  {
   "cell_type": "markdown",
   "id": "4da1096a",
   "metadata": {
    "papermill": {
     "duration": 0.028036,
     "end_time": "2022-12-08T05:17:58.557375",
     "exception": false,
     "start_time": "2022-12-08T05:17:58.529339",
     "status": "completed"
    },
    "tags": []
   },
   "source": [
    "- With this visual, we proved the assumption that \"Volt values are distributed similarly over time\", which we made in the chart above. As we can see, there is no noticeable variability of volts in the machine 80 either."
   ]
  },
  {
   "cell_type": "markdown",
   "id": "97ddbe74",
   "metadata": {
    "papermill": {
     "duration": 0.027678,
     "end_time": "2022-12-08T05:17:58.613044",
     "exception": false,
     "start_time": "2022-12-08T05:17:58.585366",
     "status": "completed"
    },
    "tags": []
   },
   "source": [
    "### 5. Distribution of Voltage Values Across Machines:"
   ]
  },
  {
   "cell_type": "code",
   "execution_count": 20,
   "id": "d6add74c",
   "metadata": {
    "execution": {
     "iopub.execute_input": "2022-12-08T05:17:58.671094Z",
     "iopub.status.busy": "2022-12-08T05:17:58.670635Z",
     "iopub.status.idle": "2022-12-08T05:18:00.706922Z",
     "shell.execute_reply": "2022-12-08T05:18:00.705478Z"
    },
    "papermill": {
     "duration": 2.068348,
     "end_time": "2022-12-08T05:18:00.709624",
     "exception": false,
     "start_time": "2022-12-08T05:17:58.641276",
     "status": "completed"
    },
    "tags": []
   },
   "outputs": [
    {
     "data": {
      "image/png": "[encoded data removed]",
      "text/plain": [
       "<Figure size 1080x360 with 1 Axes>"
      ]
     },
     "metadata": {
      "needs_background": "light"
     },
     "output_type": "display_data"
    }
   ],
   "source": [
    "plot_hist(dataset_telemetry, feature_name=\"VOLT\", log=False, bins=1000)"
   ]
  },
  {
   "cell_type": "markdown",
   "id": "ac1bdb79",
   "metadata": {
    "papermill": {
     "duration": 0.028206,
     "end_time": "2022-12-08T05:18:00.766451",
     "exception": false,
     "start_time": "2022-12-08T05:18:00.738245",
     "status": "completed"
    },
    "tags": []
   },
   "source": [
    "- Surprisingly, the volt values fit perfectly into the normal distribution. ***This indicates the possibility of synethetically generated data.***"
   ]
  },
  {
   "cell_type": "code",
   "execution_count": 21,
   "id": "2e6562cc",
   "metadata": {
    "execution": {
     "iopub.execute_input": "2022-12-08T05:18:00.824495Z",
     "iopub.status.busy": "2022-12-08T05:18:00.824065Z",
     "iopub.status.idle": "2022-12-08T05:18:06.881944Z",
     "shell.execute_reply": "2022-12-08T05:18:06.880717Z"
    },
    "papermill": {
     "duration": 6.090236,
     "end_time": "2022-12-08T05:18:06.884824",
     "exception": false,
     "start_time": "2022-12-08T05:18:00.794588",
     "status": "completed"
    },
    "tags": []
   },
   "outputs": [
    {
     "data": {
      "image/png": "[encoded data removed]",
      "text/plain": [
       "<Figure size 1080x360 with 1 Axes>"
      ]
     },
     "metadata": {
      "needs_background": "light"
     },
     "output_type": "display_data"
    },
    {
     "data": {
      "image/png": "[encoded data removed]",
      "text/plain": [
       "<Figure size 1080x360 with 1 Axes>"
      ]
     },
     "metadata": {
      "needs_background": "light"
     },
     "output_type": "display_data"
    },
    {
     "data": {
      "image/png": "[encoded data removed]",
      "text/plain": [
       "<Figure size 1080x360 with 1 Axes>"
      ]
     },
     "metadata": {
      "needs_background": "light"
     },
     "output_type": "display_data"
    }
   ],
   "source": [
    "for feature in ['ROTATE', 'PRESSURE', 'VIBRATION']:\n",
    "    plot_hist(dataset_telemetry, feature_name= feature, log=False, bins=1000)"
   ]
  },
  {
   "cell_type": "markdown",
   "id": "e8e34d66",
   "metadata": {
    "papermill": {
     "duration": 0.02941,
     "end_time": "2022-12-08T05:18:06.944096",
     "exception": false,
     "start_time": "2022-12-08T05:18:06.914686",
     "status": "completed"
    },
    "tags": []
   },
   "source": [
    "**Conclusion information about telemetry values:**\n",
    "\n",
    "- Our dataset includes machine data recorded between January 1, 2015 and January 1, 2016.\n",
    "\n",
    "- The time period of our data set is seen hourly.\n",
    "\n",
    "- There are 100 unique machines in our data set.\n",
    "\n",
    "- In our data set, there is no missing value or duplicated data that could deviate the model in a possible ML algorithm solution and create bias. -Because it is synthetic data, we should not forget that we are working with healthy data. It will be difficult for us to encounter such clean data in real life data."
   ]
  },
  {
   "cell_type": "markdown",
   "id": "3787b423",
   "metadata": {
    "papermill": {
     "duration": 0.0295,
     "end_time": "2022-12-08T05:18:07.003458",
     "exception": false,
     "start_time": "2022-12-08T05:18:06.973958",
     "status": "completed"
    },
    "tags": []
   },
   "source": [
    "# Error Dataset : "
   ]
  },
  {
   "cell_type": "markdown",
   "id": "ed57c02c",
   "metadata": {
    "papermill": {
     "duration": 0.030023,
     "end_time": "2022-12-08T05:18:07.065077",
     "exception": false,
     "start_time": "2022-12-08T05:18:07.035054",
     "status": "completed"
    },
    "tags": []
   },
   "source": [
    "- In this part of the work, we will be focusing on data points labeled as signals that machines receive while they are operating. First of all, these data points do not count as machine failures, which is the focus of our study, as they do not interfere with the operation of the machines."
   ]
  },
  {
   "cell_type": "code",
   "execution_count": 22,
   "id": "566b196c",
   "metadata": {
    "execution": {
     "iopub.execute_input": "2022-12-08T05:18:07.129683Z",
     "iopub.status.busy": "2022-12-08T05:18:07.129274Z",
     "iopub.status.idle": "2022-12-08T05:18:07.148638Z",
     "shell.execute_reply": "2022-12-08T05:18:07.147123Z"
    },
    "papermill": {
     "duration": 0.054254,
     "end_time": "2022-12-08T05:18:07.151559",
     "exception": false,
     "start_time": "2022-12-08T05:18:07.097305",
     "status": "completed"
    },
    "tags": []
   },
   "outputs": [
    {
     "name": "stdout",
     "output_type": "stream",
     "text": [
      "//////////DataFrame Shape\\\\\\\\\\\n",
      "(3919, 3)\n",
      "//////////DataFrame Types\\\\\\\\\\\n",
      "datetime     datetime64[ns]\n",
      "machineID             int64\n",
      "errorID              object\n",
      "dtype: object\n",
      "//////////DataFrame Head(First 5 rows) \\\\\\\\\\\n",
      "             datetime  machineID errorID\n",
      "0 2015-01-01 06:00:00         24  error1\n",
      "1 2015-01-01 06:00:00         73  error4\n",
      "2 2015-01-01 06:00:00         81  error1\n",
      "3 2015-01-01 07:00:00         43  error3\n",
      "4 2015-01-01 08:00:00         14  error4\n",
      "//////////DataFrame Tail(Last 5 rows) \\\\\\\\\\\n",
      "                datetime  machineID errorID\n",
      "3914 2015-12-31 18:00:00         91  error4\n",
      "3915 2015-12-31 20:00:00         23  error3\n",
      "3916 2015-12-31 23:00:00         94  error3\n",
      "3917 2016-01-01 05:00:00          8  error3\n",
      "3918 2016-01-01 05:00:00         30  error2\n",
      "//////////DataFrame NaN Values \\\\\\\\\\\n",
      "datetime     0\n",
      "machineID    0\n",
      "errorID      0\n",
      "dtype: int64\n",
      "//////////DataFrame Quantiles \\\\\\\\\\\n",
      "           0.00  0.25  0.50  0.75   1.00\n",
      "machineID   1.0  25.0  51.0  77.0  100.0\n"
     ]
    }
   ],
   "source": [
    "check_df(dataset_errors)"
   ]
  },
  {
   "cell_type": "markdown",
   "id": "c8e016cf",
   "metadata": {
    "papermill": {
     "duration": 0.029215,
     "end_time": "2022-12-08T05:18:07.211207",
     "exception": false,
     "start_time": "2022-12-08T05:18:07.181992",
     "status": "completed"
    },
    "tags": []
   },
   "source": [
    "- Our error dataset consists of 3 variables and 3919 rows. Here are the errorID value containing each unique error class and the machineID columns representing each unique machine along with the time intervals when the errors occurred. Here we will first perform type renaming of ID columns as categorical values."
   ]
  },
  {
   "cell_type": "code",
   "execution_count": 23,
   "id": "afaeecba",
   "metadata": {
    "execution": {
     "iopub.execute_input": "2022-12-08T05:18:07.274327Z",
     "iopub.status.busy": "2022-12-08T05:18:07.273506Z",
     "iopub.status.idle": "2022-12-08T05:18:07.285943Z",
     "shell.execute_reply": "2022-12-08T05:18:07.284985Z"
    },
    "papermill": {
     "duration": 0.047191,
     "end_time": "2022-12-08T05:18:07.288519",
     "exception": false,
     "start_time": "2022-12-08T05:18:07.241328",
     "status": "completed"
    },
    "tags": []
   },
   "outputs": [
    {
     "data": {
      "text/html": [
       "<div>\n",
       "<style scoped>\n",
       "    .dataframe tbody tr th:only-of-type {\n",
       "        vertical-align: middle;\n",
       "    }\n",
       "\n",
       "    .dataframe tbody tr th {\n",
       "        vertical-align: top;\n",
       "    }\n",
       "\n",
       "    .dataframe thead th {\n",
       "        text-align: right;\n",
       "    }\n",
       "</style>\n",
       "<table border=\"1\" class=\"dataframe\">\n",
       "  <thead>\n",
       "    <tr style=\"text-align: right;\">\n",
       "      <th></th>\n",
       "      <th>DATETIME</th>\n",
       "      <th>MACHINEID</th>\n",
       "      <th>ERRORID</th>\n",
       "    </tr>\n",
       "  </thead>\n",
       "  <tbody>\n",
       "    <tr>\n",
       "      <th>0</th>\n",
       "      <td>2015-01-01 06:00:00</td>\n",
       "      <td>24</td>\n",
       "      <td>error1</td>\n",
       "    </tr>\n",
       "    <tr>\n",
       "      <th>1</th>\n",
       "      <td>2015-01-01 06:00:00</td>\n",
       "      <td>73</td>\n",
       "      <td>error4</td>\n",
       "    </tr>\n",
       "    <tr>\n",
       "      <th>2</th>\n",
       "      <td>2015-01-01 06:00:00</td>\n",
       "      <td>81</td>\n",
       "      <td>error1</td>\n",
       "    </tr>\n",
       "    <tr>\n",
       "      <th>3</th>\n",
       "      <td>2015-01-01 07:00:00</td>\n",
       "      <td>43</td>\n",
       "      <td>error3</td>\n",
       "    </tr>\n",
       "    <tr>\n",
       "      <th>4</th>\n",
       "      <td>2015-01-01 08:00:00</td>\n",
       "      <td>14</td>\n",
       "      <td>error4</td>\n",
       "    </tr>\n",
       "  </tbody>\n",
       "</table>\n",
       "</div>"
      ],
      "text/plain": [
       "             DATETIME  MACHINEID ERRORID\n",
       "0 2015-01-01 06:00:00         24  error1\n",
       "1 2015-01-01 06:00:00         73  error4\n",
       "2 2015-01-01 06:00:00         81  error1\n",
       "3 2015-01-01 07:00:00         43  error3\n",
       "4 2015-01-01 08:00:00         14  error4"
      ]
     },
     "execution_count": 23,
     "metadata": {},
     "output_type": "execute_result"
    }
   ],
   "source": [
    "upper_col_name(dataset_errors)"
   ]
  },
  {
   "cell_type": "code",
   "execution_count": 24,
   "id": "be3f19c6",
   "metadata": {
    "execution": {
     "iopub.execute_input": "2022-12-08T05:18:07.353948Z",
     "iopub.status.busy": "2022-12-08T05:18:07.353239Z",
     "iopub.status.idle": "2022-12-08T05:18:07.360519Z",
     "shell.execute_reply": "2022-12-08T05:18:07.359497Z"
    },
    "papermill": {
     "duration": 0.044128,
     "end_time": "2022-12-08T05:18:07.363453",
     "exception": false,
     "start_time": "2022-12-08T05:18:07.319325",
     "status": "completed"
    },
    "tags": []
   },
   "outputs": [],
   "source": [
    "dataset_errors[\"MACHINEID\"] = dataset_errors[\"MACHINEID\"].astype('category')\n",
    "dataset_errors[\"ERRORID\"] = dataset_errors[\"ERRORID\"].astype('category')"
   ]
  },
  {
   "cell_type": "markdown",
   "id": "a7715b30",
   "metadata": {
    "papermill": {
     "duration": 0.033057,
     "end_time": "2022-12-08T05:18:07.427643",
     "exception": false,
     "start_time": "2022-12-08T05:18:07.394586",
     "status": "completed"
    },
    "tags": []
   },
   "source": [
    "## What is the time period in which the dataset was record?"
   ]
  },
  {
   "cell_type": "code",
   "execution_count": 25,
   "id": "469dd22f",
   "metadata": {
    "execution": {
     "iopub.execute_input": "2022-12-08T05:18:07.489931Z",
     "iopub.status.busy": "2022-12-08T05:18:07.489477Z",
     "iopub.status.idle": "2022-12-08T05:18:07.502489Z",
     "shell.execute_reply": "2022-12-08T05:18:07.501200Z"
    },
    "papermill": {
     "duration": 0.047359,
     "end_time": "2022-12-08T05:18:07.505323",
     "exception": false,
     "start_time": "2022-12-08T05:18:07.457964",
     "status": "completed"
    },
    "tags": []
   },
   "outputs": [
    {
     "data": {
      "text/plain": [
       "count                             3919\n",
       "mean     2015-07-01 03:34:18.586373888\n",
       "min                2015-01-01 06:00:00\n",
       "25%                2015-03-31 05:00:00\n",
       "50%                2015-07-01 06:00:00\n",
       "75%                2015-10-01 15:00:00\n",
       "max                2016-01-01 05:00:00\n",
       "Name: DATETIME, dtype: object"
      ]
     },
     "execution_count": 25,
     "metadata": {},
     "output_type": "execute_result"
    }
   ],
   "source": [
    "dataset_errors[\"DATETIME\"].describe(datetime_is_numeric=True)"
   ]
  },
  {
   "cell_type": "markdown",
   "id": "967d5b3d",
   "metadata": {
    "papermill": {
     "duration": 0.030466,
     "end_time": "2022-12-08T05:18:07.567074",
     "exception": false,
     "start_time": "2022-12-08T05:18:07.536608",
     "status": "completed"
    },
    "tags": []
   },
   "source": [
    "- The Errors dataset contains the same time intervals as telemetry. Beginning January 1, 2015 and ending January 1, 2016\n",
    "\n",
    "- In addition, the dataset maintains an hourly timeframe."
   ]
  },
  {
   "cell_type": "markdown",
   "id": "46915079",
   "metadata": {
    "papermill": {
     "duration": 0.030155,
     "end_time": "2022-12-08T05:18:07.627248",
     "exception": false,
     "start_time": "2022-12-08T05:18:07.597093",
     "status": "completed"
    },
    "tags": []
   },
   "source": [
    "## Are there any dublicated value ?"
   ]
  },
  {
   "cell_type": "code",
   "execution_count": 26,
   "id": "62e4d7c0",
   "metadata": {
    "execution": {
     "iopub.execute_input": "2022-12-08T05:18:07.690252Z",
     "iopub.status.busy": "2022-12-08T05:18:07.689589Z",
     "iopub.status.idle": "2022-12-08T05:18:07.699512Z",
     "shell.execute_reply": "2022-12-08T05:18:07.698465Z"
    },
    "papermill": {
     "duration": 0.044099,
     "end_time": "2022-12-08T05:18:07.701961",
     "exception": false,
     "start_time": "2022-12-08T05:18:07.657862",
     "status": "completed"
    },
    "tags": []
   },
   "outputs": [
    {
     "data": {
      "text/plain": [
       "0"
      ]
     },
     "execution_count": 26,
     "metadata": {},
     "output_type": "execute_result"
    }
   ],
   "source": [
    "check_duplicate(dataset_errors, ['DATETIME', 'MACHINEID', 'ERRORID'])"
   ]
  },
  {
   "cell_type": "markdown",
   "id": "a4f02db4",
   "metadata": {
    "papermill": {
     "duration": 0.030851,
     "end_time": "2022-12-08T05:18:07.764439",
     "exception": false,
     "start_time": "2022-12-08T05:18:07.733588",
     "status": "completed"
    },
    "tags": []
   },
   "source": [
    "## Are there any NaN values ?"
   ]
  },
  {
   "cell_type": "code",
   "execution_count": 27,
   "id": "460c111f",
   "metadata": {
    "execution": {
     "iopub.execute_input": "2022-12-08T05:18:07.826513Z",
     "iopub.status.busy": "2022-12-08T05:18:07.825601Z",
     "iopub.status.idle": "2022-12-08T05:18:07.836142Z",
     "shell.execute_reply": "2022-12-08T05:18:07.835116Z"
    },
    "papermill": {
     "duration": 0.043785,
     "end_time": "2022-12-08T05:18:07.838376",
     "exception": false,
     "start_time": "2022-12-08T05:18:07.794591",
     "status": "completed"
    },
    "tags": []
   },
   "outputs": [
    {
     "data": {
      "text/plain": [
       "DATETIME     0.0\n",
       "MACHINEID    0.0\n",
       "ERRORID      0.0\n",
       "dtype: float64"
      ]
     },
     "execution_count": 27,
     "metadata": {},
     "output_type": "execute_result"
    }
   ],
   "source": [
    "check_null(dataset_errors)"
   ]
  },
  {
   "cell_type": "markdown",
   "id": "06c9712f",
   "metadata": {
    "papermill": {
     "duration": 0.029601,
     "end_time": "2022-12-08T05:18:07.898222",
     "exception": false,
     "start_time": "2022-12-08T05:18:07.868621",
     "status": "completed"
    },
    "tags": []
   },
   "source": [
    "## Plots about Error Types :"
   ]
  },
  {
   "cell_type": "code",
   "execution_count": 28,
   "id": "66d2b574",
   "metadata": {
    "execution": {
     "iopub.execute_input": "2022-12-08T05:18:07.960972Z",
     "iopub.status.busy": "2022-12-08T05:18:07.960324Z",
     "iopub.status.idle": "2022-12-08T05:18:08.180897Z",
     "shell.execute_reply": "2022-12-08T05:18:08.179661Z"
    },
    "papermill": {
     "duration": 0.254763,
     "end_time": "2022-12-08T05:18:08.183253",
     "exception": false,
     "start_time": "2022-12-08T05:18:07.928490",
     "status": "completed"
    },
    "tags": []
   },
   "outputs": [
    {
     "data": {
      "image/png": "[encoded data removed]",
      "text/plain": [
       "<Figure size 720x432 with 1 Axes>"
      ]
     },
     "metadata": {
      "needs_background": "light"
     },
     "output_type": "display_data"
    }
   ],
   "source": [
    "plot_barh(dataset_errors, \n",
    "          feature_name=\"ERRORID\", \n",
    "          figsize=(10, 6), \n",
    "          normalize=False,\n",
    "          title=\"Different Types of Errors\")"
   ]
  },
  {
   "cell_type": "markdown",
   "id": "ebdc561a",
   "metadata": {
    "papermill": {
     "duration": 0.030308,
     "end_time": "2022-12-08T05:18:08.243878",
     "exception": false,
     "start_time": "2022-12-08T05:18:08.213570",
     "status": "completed"
    },
    "tags": []
   },
   "source": [
    "- As can be seen, Type 1 and Type 2 error types were more common.\n",
    "\n",
    "- Now, which error code has been seen on which machine and how many times? We create a barplot to access this information."
   ]
  },
  {
   "cell_type": "markdown",
   "id": "1b866fe5",
   "metadata": {
    "papermill": {
     "duration": 0.029987,
     "end_time": "2022-12-08T05:18:08.304307",
     "exception": false,
     "start_time": "2022-12-08T05:18:08.274320",
     "status": "completed"
    },
    "tags": []
   },
   "source": [
    "## How many error signals did each machine generate?"
   ]
  },
  {
   "cell_type": "code",
   "execution_count": 29,
   "id": "b8843da7",
   "metadata": {
    "execution": {
     "iopub.execute_input": "2022-12-08T05:18:08.366427Z",
     "iopub.status.busy": "2022-12-08T05:18:08.366019Z",
     "iopub.status.idle": "2022-12-08T05:18:09.440796Z",
     "shell.execute_reply": "2022-12-08T05:18:09.439627Z"
    },
    "papermill": {
     "duration": 1.109066,
     "end_time": "2022-12-08T05:18:09.443541",
     "exception": false,
     "start_time": "2022-12-08T05:18:08.334475",
     "status": "completed"
    },
    "tags": []
   },
   "outputs": [
    {
     "data": {
      "image/png": "[encoded data removed]",
      "text/plain": [
       "<Figure size 432x1440 with 1 Axes>"
      ]
     },
     "metadata": {
      "needs_background": "light"
     },
     "output_type": "display_data"
    }
   ],
   "source": [
    "plot_barh(dataset_errors, \"MACHINEID\", figsize=(6, 20), normalize=False, title=\"Number of errors across MachineID\")"
   ]
  },
  {
   "cell_type": "markdown",
   "id": "f0b0f9f7",
   "metadata": {
    "papermill": {
     "duration": 0.0309,
     "end_time": "2022-12-08T05:18:09.506074",
     "exception": false,
     "start_time": "2022-12-08T05:18:09.475174",
     "status": "completed"
    },
    "tags": []
   },
   "source": [
    "- As expected, machines with different specifications signal different levels of error.\n",
    "\n",
    "- Now, let's examine which error code is at what intensity according to the machine type, by adding the color dimension."
   ]
  },
  {
   "cell_type": "markdown",
   "id": "c682f72b",
   "metadata": {
    "papermill": {
     "duration": 0.030561,
     "end_time": "2022-12-08T05:18:09.567723",
     "exception": false,
     "start_time": "2022-12-08T05:18:09.537162",
     "status": "completed"
    },
    "tags": []
   },
   "source": [
    "## How does the Machine to type of error distribution looks like?"
   ]
  },
  {
   "cell_type": "code",
   "execution_count": 30,
   "id": "dda72597",
   "metadata": {
    "execution": {
     "iopub.execute_input": "2022-12-08T05:18:09.632547Z",
     "iopub.status.busy": "2022-12-08T05:18:09.631438Z",
     "iopub.status.idle": "2022-12-08T05:18:12.129998Z",
     "shell.execute_reply": "2022-12-08T05:18:12.128751Z"
    },
    "papermill": {
     "duration": 2.533442,
     "end_time": "2022-12-08T05:18:12.132325",
     "exception": false,
     "start_time": "2022-12-08T05:18:09.598883",
     "status": "completed"
    },
    "tags": []
   },
   "outputs": [
    {
     "data": {
      "image/png": "[encoded data removed]",
      "text/plain": [
       "<Figure size 1440x432 with 1 Axes>"
      ]
     },
     "metadata": {
      "needs_background": "light"
     },
     "output_type": "display_data"
    }
   ],
   "source": [
    "dataset_errors_ = dataset_errors.groupby([\"MACHINEID\", \"ERRORID\"]).size().reset_index()\n",
    "dataset_errors_.columns = [\"MACHINEID\", \"ERRORID\", \"errorValues\"]\n",
    "#df_errors_pivot = pd.pivot(df_errors, index=\"machineID\", columns=\"errorID\", values=\"errorValues\").reset_index().rename_axis(None, axis=1)\n",
    "dataset_errors_pivot = pd.pivot(dataset_errors_, index=\"MACHINEID\", columns=\"ERRORID\", values=\"errorValues\").rename_axis(None, axis=1)\n",
    "\n",
    "dataset_errors_pivot.plot.bar(stacked=True, figsize=(20, 6), title=\"Count of Errors for different Machines\")\n",
    "plt.xlabel(\"Machine ID\")\n",
    "plt.ylabel(\"Number of Errors\");"
   ]
  },
  {
   "cell_type": "markdown",
   "id": "0284631e",
   "metadata": {
    "papermill": {
     "duration": 0.031688,
     "end_time": "2022-12-08T05:18:12.196963",
     "exception": false,
     "start_time": "2022-12-08T05:18:12.165275",
     "status": "completed"
    },
    "tags": []
   },
   "source": [
    "## Error signal occurrence amounts by day :"
   ]
  },
  {
   "cell_type": "code",
   "execution_count": 31,
   "id": "c2b73e2d",
   "metadata": {
    "execution": {
     "iopub.execute_input": "2022-12-08T05:18:12.261726Z",
     "iopub.status.busy": "2022-12-08T05:18:12.261301Z",
     "iopub.status.idle": "2022-12-08T05:18:12.486813Z",
     "shell.execute_reply": "2022-12-08T05:18:12.485712Z"
    },
    "papermill": {
     "duration": 0.260775,
     "end_time": "2022-12-08T05:18:12.489073",
     "exception": false,
     "start_time": "2022-12-08T05:18:12.228298",
     "status": "completed"
    },
    "tags": []
   },
   "outputs": [
    {
     "data": {
      "image/png": "[encoded data removed]",
      "text/plain": [
       "<Figure size 1440x432 with 1 Axes>"
      ]
     },
     "metadata": {
      "needs_background": "light"
     },
     "output_type": "display_data"
    }
   ],
   "source": [
    "plot_ts(\n",
    "    dataset_errors[\"DATETIME\"].dt.date.value_counts().sort_index(), \n",
    "    figsize=(20, 6), \n",
    "    title=\"Number of Errors Across Days\", \n",
    "    xlabel=\"Time\",\n",
    "    ylabel=\"Number of Errors\")"
   ]
  },
  {
   "cell_type": "markdown",
   "id": "a8a77fc3",
   "metadata": {
    "papermill": {
     "duration": 0.033487,
     "end_time": "2022-12-08T05:18:12.556296",
     "exception": false,
     "start_time": "2022-12-08T05:18:12.522809",
     "status": "completed"
    },
    "tags": []
   },
   "source": [
    "- Let's see how some specific machines produce errors in a certain period with a scatter plot:"
   ]
  },
  {
   "cell_type": "markdown",
   "id": "c99685f6",
   "metadata": {
    "papermill": {
     "duration": 0.033454,
     "end_time": "2022-12-08T05:18:12.624211",
     "exception": false,
     "start_time": "2022-12-08T05:18:12.590757",
     "status": "completed"
    },
    "tags": []
   },
   "source": [
    "## How does the error distribution looks for a particluar machine?"
   ]
  },
  {
   "cell_type": "code",
   "execution_count": 32,
   "id": "db6fb69a",
   "metadata": {
    "execution": {
     "iopub.execute_input": "2022-12-08T05:18:12.694113Z",
     "iopub.status.busy": "2022-12-08T05:18:12.693668Z",
     "iopub.status.idle": "2022-12-08T05:18:12.885562Z",
     "shell.execute_reply": "2022-12-08T05:18:12.884372Z"
    },
    "papermill": {
     "duration": 0.230037,
     "end_time": "2022-12-08T05:18:12.888097",
     "exception": false,
     "start_time": "2022-12-08T05:18:12.658060",
     "status": "completed"
    },
    "tags": []
   },
   "outputs": [
    {
     "data": {
      "image/png": "[encoded data removed]",
      "text/plain": [
       "<Figure size 576x288 with 1 Axes>"
      ]
     },
     "metadata": {
      "needs_background": "light"
     },
     "output_type": "display_data"
    }
   ],
   "source": [
    "df_temp = dataset_errors[dataset_errors[\"MACHINEID\"].isin([1, 2])][\"DATETIME\"].dt.date.value_counts().sort_index()\n",
    "df_temp.plot(style=\"k.\", figsize=(8, 4), title=\"Number of Errors Across Days for Machine 1 & 2\")\n",
    "plt.ylabel(\"Count of Errors\")\n",
    "plt.xlabel(\"Time\")\n",
    "plt.show()"
   ]
  },
  {
   "cell_type": "markdown",
   "id": "cf9c2e31",
   "metadata": {
    "papermill": {
     "duration": 0.034037,
     "end_time": "2022-12-08T05:18:12.957127",
     "exception": false,
     "start_time": "2022-12-08T05:18:12.923090",
     "status": "completed"
    },
    "tags": []
   },
   "source": [
    "- When we look at the graph, the daily error signal generation frequency for machine 1 and machine 2 we have chosen is 1. However, as an outlier, there are times when it gives more than 1 error signal.\n",
    "\n",
    "- Now, let's show the distribution of the error amount according to the days in the density graph."
   ]
  },
  {
   "cell_type": "markdown",
   "id": "8836f86d",
   "metadata": {
    "papermill": {
     "duration": 0.033912,
     "end_time": "2022-12-08T05:18:13.025162",
     "exception": false,
     "start_time": "2022-12-08T05:18:12.991250",
     "status": "completed"
    },
    "tags": []
   },
   "source": [
    "## Distribution of daily error amount:"
   ]
  },
  {
   "cell_type": "code",
   "execution_count": 33,
   "id": "8f4d61d2",
   "metadata": {
    "execution": {
     "iopub.execute_input": "2022-12-08T05:18:13.095803Z",
     "iopub.status.busy": "2022-12-08T05:18:13.095387Z",
     "iopub.status.idle": "2022-12-08T05:18:13.112570Z",
     "shell.execute_reply": "2022-12-08T05:18:13.111449Z"
    },
    "papermill": {
     "duration": 0.055722,
     "end_time": "2022-12-08T05:18:13.114855",
     "exception": false,
     "start_time": "2022-12-08T05:18:13.059133",
     "status": "completed"
    },
    "tags": []
   },
   "outputs": [
    {
     "data": {
      "text/html": [
       "<div>\n",
       "<style scoped>\n",
       "    .dataframe tbody tr th:only-of-type {\n",
       "        vertical-align: middle;\n",
       "    }\n",
       "\n",
       "    .dataframe tbody tr th {\n",
       "        vertical-align: top;\n",
       "    }\n",
       "\n",
       "    .dataframe thead th {\n",
       "        text-align: right;\n",
       "    }\n",
       "</style>\n",
       "<table border=\"1\" class=\"dataframe\">\n",
       "  <thead>\n",
       "    <tr style=\"text-align: right;\">\n",
       "      <th></th>\n",
       "      <th>DATETIME</th>\n",
       "      <th>MACHINEID</th>\n",
       "      <th>ERRORID</th>\n",
       "    </tr>\n",
       "  </thead>\n",
       "  <tbody>\n",
       "    <tr>\n",
       "      <th>0</th>\n",
       "      <td>2015-01-01 06:00:00</td>\n",
       "      <td>24</td>\n",
       "      <td>error1</td>\n",
       "    </tr>\n",
       "    <tr>\n",
       "      <th>1</th>\n",
       "      <td>2015-01-01 06:00:00</td>\n",
       "      <td>73</td>\n",
       "      <td>error4</td>\n",
       "    </tr>\n",
       "    <tr>\n",
       "      <th>2</th>\n",
       "      <td>2015-01-01 06:00:00</td>\n",
       "      <td>81</td>\n",
       "      <td>error1</td>\n",
       "    </tr>\n",
       "    <tr>\n",
       "      <th>3</th>\n",
       "      <td>2015-01-01 07:00:00</td>\n",
       "      <td>43</td>\n",
       "      <td>error3</td>\n",
       "    </tr>\n",
       "    <tr>\n",
       "      <th>4</th>\n",
       "      <td>2015-01-01 08:00:00</td>\n",
       "      <td>14</td>\n",
       "      <td>error4</td>\n",
       "    </tr>\n",
       "    <tr>\n",
       "      <th>...</th>\n",
       "      <td>...</td>\n",
       "      <td>...</td>\n",
       "      <td>...</td>\n",
       "    </tr>\n",
       "    <tr>\n",
       "      <th>3914</th>\n",
       "      <td>2015-12-31 18:00:00</td>\n",
       "      <td>91</td>\n",
       "      <td>error4</td>\n",
       "    </tr>\n",
       "    <tr>\n",
       "      <th>3915</th>\n",
       "      <td>2015-12-31 20:00:00</td>\n",
       "      <td>23</td>\n",
       "      <td>error3</td>\n",
       "    </tr>\n",
       "    <tr>\n",
       "      <th>3916</th>\n",
       "      <td>2015-12-31 23:00:00</td>\n",
       "      <td>94</td>\n",
       "      <td>error3</td>\n",
       "    </tr>\n",
       "    <tr>\n",
       "      <th>3917</th>\n",
       "      <td>2016-01-01 05:00:00</td>\n",
       "      <td>8</td>\n",
       "      <td>error3</td>\n",
       "    </tr>\n",
       "    <tr>\n",
       "      <th>3918</th>\n",
       "      <td>2016-01-01 05:00:00</td>\n",
       "      <td>30</td>\n",
       "      <td>error2</td>\n",
       "    </tr>\n",
       "  </tbody>\n",
       "</table>\n",
       "<p>3919 rows × 3 columns</p>\n",
       "</div>"
      ],
      "text/plain": [
       "                DATETIME MACHINEID ERRORID\n",
       "0    2015-01-01 06:00:00        24  error1\n",
       "1    2015-01-01 06:00:00        73  error4\n",
       "2    2015-01-01 06:00:00        81  error1\n",
       "3    2015-01-01 07:00:00        43  error3\n",
       "4    2015-01-01 08:00:00        14  error4\n",
       "...                  ...       ...     ...\n",
       "3914 2015-12-31 18:00:00        91  error4\n",
       "3915 2015-12-31 20:00:00        23  error3\n",
       "3916 2015-12-31 23:00:00        94  error3\n",
       "3917 2016-01-01 05:00:00         8  error3\n",
       "3918 2016-01-01 05:00:00        30  error2\n",
       "\n",
       "[3919 rows x 3 columns]"
      ]
     },
     "execution_count": 33,
     "metadata": {},
     "output_type": "execute_result"
    }
   ],
   "source": [
    "dataset_errors"
   ]
  },
  {
   "cell_type": "code",
   "execution_count": 34,
   "id": "6db5978c",
   "metadata": {
    "execution": {
     "iopub.execute_input": "2022-12-08T05:18:13.185884Z",
     "iopub.status.busy": "2022-12-08T05:18:13.185471Z",
     "iopub.status.idle": "2022-12-08T05:18:13.362866Z",
     "shell.execute_reply": "2022-12-08T05:18:13.361522Z"
    },
    "papermill": {
     "duration": 0.216248,
     "end_time": "2022-12-08T05:18:13.365490",
     "exception": false,
     "start_time": "2022-12-08T05:18:13.149242",
     "status": "completed"
    },
    "tags": []
   },
   "outputs": [
    {
     "data": {
      "image/png": "[encoded data removed]",
      "text/plain": [
       "<Figure size 720x432 with 1 Axes>"
      ]
     },
     "metadata": {
      "needs_background": "light"
     },
     "output_type": "display_data"
    }
   ],
   "source": [
    "dataset_errors['DATE'] = dataset_errors[\"DATETIME\"].dt.date\n",
    "\n",
    "dataset_errors.groupby('DATE').size().hist(bins=20, figsize=(10, 6))\n",
    "plt.title(\"Distribution of Number of Errors Per Day\")\n",
    "plt.xlabel(\"Number of Errors on a Particular Day\")\n",
    "plt.ylabel(\"Frequency\")\n",
    "plt.show()"
   ]
  },
  {
   "cell_type": "markdown",
   "id": "fbb36e24",
   "metadata": {
    "papermill": {
     "duration": 0.034747,
     "end_time": "2022-12-08T05:18:13.435303",
     "exception": false,
     "start_time": "2022-12-08T05:18:13.400556",
     "status": "completed"
    },
    "tags": []
   },
   "source": [
    "Error data summary:\n",
    "\n",
    "- Our data includes the display of error signals by machines from January 1 to January 1, 2016.\n",
    "\n",
    "- There were 3919 errors.\n",
    "\n",
    "- As can be seen from the density graph, the daily error value of all owned machines is distributed with an average of ~10-15.\n",
    "\n",
    "- Machines with different features have a different tendency to generate error signals."
   ]
  },
  {
   "cell_type": "markdown",
   "id": "50ab612e",
   "metadata": {
    "papermill": {
     "duration": 0.034502,
     "end_time": "2022-12-08T05:18:13.504598",
     "exception": false,
     "start_time": "2022-12-08T05:18:13.470096",
     "status": "completed"
    },
    "tags": []
   },
   "source": [
    "# Maintenance Data:"
   ]
  },
  {
   "cell_type": "markdown",
   "id": "6abc9e8a",
   "metadata": {
    "papermill": {
     "duration": 0.034605,
     "end_time": "2022-12-08T05:18:13.573956",
     "exception": false,
     "start_time": "2022-12-08T05:18:13.539351",
     "status": "completed"
    },
    "tags": []
   },
   "source": [
    "When we examine the maintenance data, we need to give the following information as a preliminary definition:\n",
    "\n",
    "* If a component of a machine is replaced, it is kept as a record in this table. Components are replaced in two cases:\n",
    "\n",
    "    - Technician replaced it during regularly scheduled visit (Proactive Maintenance)\n",
    "\n",
    "    - A component fails, and then the technician performs unscheduled maintenance to replace the component (Reactive Maintenance). This is considered a fault and the relevant data is collected under Faults. Maintenance data has both 2014 and 2015 records. Since telemetry data is collected hourly, this data is rounded to the nearest hour."
   ]
  },
  {
   "cell_type": "code",
   "execution_count": 35,
   "id": "f572d65b",
   "metadata": {
    "execution": {
     "iopub.execute_input": "2022-12-08T05:18:13.645421Z",
     "iopub.status.busy": "2022-12-08T05:18:13.645037Z",
     "iopub.status.idle": "2022-12-08T05:18:13.656952Z",
     "shell.execute_reply": "2022-12-08T05:18:13.655950Z"
    },
    "papermill": {
     "duration": 0.050161,
     "end_time": "2022-12-08T05:18:13.659015",
     "exception": false,
     "start_time": "2022-12-08T05:18:13.608854",
     "status": "completed"
    },
    "tags": []
   },
   "outputs": [
    {
     "data": {
      "text/html": [
       "<div>\n",
       "<style scoped>\n",
       "    .dataframe tbody tr th:only-of-type {\n",
       "        vertical-align: middle;\n",
       "    }\n",
       "\n",
       "    .dataframe tbody tr th {\n",
       "        vertical-align: top;\n",
       "    }\n",
       "\n",
       "    .dataframe thead th {\n",
       "        text-align: right;\n",
       "    }\n",
       "</style>\n",
       "<table border=\"1\" class=\"dataframe\">\n",
       "  <thead>\n",
       "    <tr style=\"text-align: right;\">\n",
       "      <th></th>\n",
       "      <th>DATETIME</th>\n",
       "      <th>MACHINEID</th>\n",
       "      <th>COMP</th>\n",
       "    </tr>\n",
       "  </thead>\n",
       "  <tbody>\n",
       "    <tr>\n",
       "      <th>0</th>\n",
       "      <td>2014-06-01 06:00:00</td>\n",
       "      <td>1</td>\n",
       "      <td>comp2</td>\n",
       "    </tr>\n",
       "    <tr>\n",
       "      <th>1</th>\n",
       "      <td>2014-06-01 06:00:00</td>\n",
       "      <td>6</td>\n",
       "      <td>comp2</td>\n",
       "    </tr>\n",
       "    <tr>\n",
       "      <th>2</th>\n",
       "      <td>2014-06-01 06:00:00</td>\n",
       "      <td>9</td>\n",
       "      <td>comp1</td>\n",
       "    </tr>\n",
       "    <tr>\n",
       "      <th>3</th>\n",
       "      <td>2014-06-01 06:00:00</td>\n",
       "      <td>9</td>\n",
       "      <td>comp2</td>\n",
       "    </tr>\n",
       "    <tr>\n",
       "      <th>4</th>\n",
       "      <td>2014-06-01 06:00:00</td>\n",
       "      <td>11</td>\n",
       "      <td>comp2</td>\n",
       "    </tr>\n",
       "  </tbody>\n",
       "</table>\n",
       "</div>"
      ],
      "text/plain": [
       "             DATETIME  MACHINEID   COMP\n",
       "0 2014-06-01 06:00:00          1  comp2\n",
       "1 2014-06-01 06:00:00          6  comp2\n",
       "2 2014-06-01 06:00:00          9  comp1\n",
       "3 2014-06-01 06:00:00          9  comp2\n",
       "4 2014-06-01 06:00:00         11  comp2"
      ]
     },
     "execution_count": 35,
     "metadata": {},
     "output_type": "execute_result"
    }
   ],
   "source": [
    "upper_col_name(dataset_maintenance)"
   ]
  },
  {
   "cell_type": "code",
   "execution_count": 36,
   "id": "4b2f7627",
   "metadata": {
    "execution": {
     "iopub.execute_input": "2022-12-08T05:18:13.731003Z",
     "iopub.status.busy": "2022-12-08T05:18:13.730133Z",
     "iopub.status.idle": "2022-12-08T05:18:13.743701Z",
     "shell.execute_reply": "2022-12-08T05:18:13.742089Z"
    },
    "papermill": {
     "duration": 0.05281,
     "end_time": "2022-12-08T05:18:13.746500",
     "exception": false,
     "start_time": "2022-12-08T05:18:13.693690",
     "status": "completed"
    },
    "tags": []
   },
   "outputs": [
    {
     "name": "stdout",
     "output_type": "stream",
     "text": [
      "Shape of the Maintenance Records: (3286, 3)\n",
      "\n",
      "\n"
     ]
    },
    {
     "data": {
      "text/html": [
       "<div>\n",
       "<style scoped>\n",
       "    .dataframe tbody tr th:only-of-type {\n",
       "        vertical-align: middle;\n",
       "    }\n",
       "\n",
       "    .dataframe tbody tr th {\n",
       "        vertical-align: top;\n",
       "    }\n",
       "\n",
       "    .dataframe thead th {\n",
       "        text-align: right;\n",
       "    }\n",
       "</style>\n",
       "<table border=\"1\" class=\"dataframe\">\n",
       "  <thead>\n",
       "    <tr style=\"text-align: right;\">\n",
       "      <th></th>\n",
       "      <th>DATETIME</th>\n",
       "      <th>MACHINEID</th>\n",
       "      <th>COMP</th>\n",
       "    </tr>\n",
       "  </thead>\n",
       "  <tbody>\n",
       "    <tr>\n",
       "      <th>0</th>\n",
       "      <td>2014-06-01 06:00:00</td>\n",
       "      <td>1</td>\n",
       "      <td>comp2</td>\n",
       "    </tr>\n",
       "    <tr>\n",
       "      <th>1</th>\n",
       "      <td>2014-06-01 06:00:00</td>\n",
       "      <td>6</td>\n",
       "      <td>comp2</td>\n",
       "    </tr>\n",
       "    <tr>\n",
       "      <th>2</th>\n",
       "      <td>2014-06-01 06:00:00</td>\n",
       "      <td>9</td>\n",
       "      <td>comp1</td>\n",
       "    </tr>\n",
       "    <tr>\n",
       "      <th>3</th>\n",
       "      <td>2014-06-01 06:00:00</td>\n",
       "      <td>9</td>\n",
       "      <td>comp2</td>\n",
       "    </tr>\n",
       "    <tr>\n",
       "      <th>4</th>\n",
       "      <td>2014-06-01 06:00:00</td>\n",
       "      <td>11</td>\n",
       "      <td>comp2</td>\n",
       "    </tr>\n",
       "  </tbody>\n",
       "</table>\n",
       "</div>"
      ],
      "text/plain": [
       "             DATETIME  MACHINEID   COMP\n",
       "0 2014-06-01 06:00:00          1  comp2\n",
       "1 2014-06-01 06:00:00          6  comp2\n",
       "2 2014-06-01 06:00:00          9  comp1\n",
       "3 2014-06-01 06:00:00          9  comp2\n",
       "4 2014-06-01 06:00:00         11  comp2"
      ]
     },
     "execution_count": 36,
     "metadata": {},
     "output_type": "execute_result"
    }
   ],
   "source": [
    "print(f\"Shape of the Maintenance Records: {dataset_maintenance.shape}\")\n",
    "print(\"\\n\")\n",
    "dataset_maintenance.head()"
   ]
  },
  {
   "cell_type": "code",
   "execution_count": 37,
   "id": "1ae646ac",
   "metadata": {
    "execution": {
     "iopub.execute_input": "2022-12-08T05:18:13.819325Z",
     "iopub.status.busy": "2022-12-08T05:18:13.818869Z",
     "iopub.status.idle": "2022-12-08T05:18:13.848732Z",
     "shell.execute_reply": "2022-12-08T05:18:13.847596Z"
    },
    "papermill": {
     "duration": 0.069781,
     "end_time": "2022-12-08T05:18:13.851396",
     "exception": false,
     "start_time": "2022-12-08T05:18:13.781615",
     "status": "completed"
    },
    "tags": []
   },
   "outputs": [],
   "source": [
    "for feature in [\"MACHINEID\", \"COMP\"]:\n",
    "    dataset_maintenance[feature] = dataset_maintenance[feature].astype(\"category\")\n",
    "    \n",
    "dataset_maintenance.sort_values([\"DATETIME\", \"MACHINEID\", \"COMP\"], inplace=True)\n",
    "\n",
    "# Add date related features.\n",
    "dataset_maintenance = create_date_features(dataset_maintenance, dataset_maintenance, \"DATETIME\")"
   ]
  },
  {
   "cell_type": "markdown",
   "id": "afddf52a",
   "metadata": {
    "papermill": {
     "duration": 0.035373,
     "end_time": "2022-12-08T05:18:13.922298",
     "exception": false,
     "start_time": "2022-12-08T05:18:13.886925",
     "status": "completed"
    },
    "tags": []
   },
   "source": [
    "## What is the duration of the data?"
   ]
  },
  {
   "cell_type": "code",
   "execution_count": 38,
   "id": "dd3da8f8",
   "metadata": {
    "execution": {
     "iopub.execute_input": "2022-12-08T05:18:13.995110Z",
     "iopub.status.busy": "2022-12-08T05:18:13.994656Z",
     "iopub.status.idle": "2022-12-08T05:18:14.006213Z",
     "shell.execute_reply": "2022-12-08T05:18:14.005364Z"
    },
    "papermill": {
     "duration": 0.050673,
     "end_time": "2022-12-08T05:18:14.008426",
     "exception": false,
     "start_time": "2022-12-08T05:18:13.957753",
     "status": "completed"
    },
    "tags": []
   },
   "outputs": [
    {
     "data": {
      "text/plain": [
       "count                             3286\n",
       "mean     2015-05-30 14:40:36.518563840\n",
       "min                2014-06-01 06:00:00\n",
       "25%                2015-03-03 06:00:00\n",
       "50%                2015-06-13 06:00:00\n",
       "75%                2015-09-18 00:00:00\n",
       "max                2016-01-01 06:00:00\n",
       "Name: DATETIME, dtype: object"
      ]
     },
     "execution_count": 38,
     "metadata": {},
     "output_type": "execute_result"
    }
   ],
   "source": [
    "dataset_maintenance[\"DATETIME\"].describe(datetime_is_numeric=True).T"
   ]
  },
  {
   "cell_type": "markdown",
   "id": "600125b8",
   "metadata": {
    "papermill": {
     "duration": 0.034649,
     "end_time": "2022-12-08T05:18:14.078279",
     "exception": false,
     "start_time": "2022-12-08T05:18:14.043630",
     "status": "completed"
    },
    "tags": []
   },
   "source": [
    "- Maintenance data is present June 2014 onwards. This is different from other data which are present between 2014 and 2015."
   ]
  },
  {
   "cell_type": "code",
   "execution_count": 39,
   "id": "44e0658d",
   "metadata": {
    "execution": {
     "iopub.execute_input": "2022-12-08T05:18:14.153274Z",
     "iopub.status.busy": "2022-12-08T05:18:14.152264Z",
     "iopub.status.idle": "2022-12-08T05:18:14.163313Z",
     "shell.execute_reply": "2022-12-08T05:18:14.162393Z"
    },
    "papermill": {
     "duration": 0.050374,
     "end_time": "2022-12-08T05:18:14.165402",
     "exception": false,
     "start_time": "2022-12-08T05:18:14.115028",
     "status": "completed"
    },
    "tags": []
   },
   "outputs": [
    {
     "data": {
      "text/plain": [
       "DatetimeIndex(['2014-06-01 07:00:00', '2014-06-01 08:00:00',\n",
       "               '2014-06-01 09:00:00', '2014-06-01 10:00:00',\n",
       "               '2014-06-01 11:00:00', '2014-06-01 12:00:00',\n",
       "               '2014-06-01 13:00:00', '2014-06-01 14:00:00',\n",
       "               '2014-06-01 15:00:00', '2014-06-01 16:00:00',\n",
       "               ...\n",
       "               '2015-12-31 20:00:00', '2015-12-31 21:00:00',\n",
       "               '2015-12-31 22:00:00', '2015-12-31 23:00:00',\n",
       "               '2016-01-01 00:00:00', '2016-01-01 01:00:00',\n",
       "               '2016-01-01 02:00:00', '2016-01-01 03:00:00',\n",
       "               '2016-01-01 04:00:00', '2016-01-01 05:00:00'],\n",
       "              dtype='datetime64[ns]', length=13523, freq=None)"
      ]
     },
     "execution_count": 39,
     "metadata": {},
     "output_type": "execute_result"
    }
   ],
   "source": [
    "get_missing_dates(dataset_maintenance[\"DATETIME\"], \n",
    "                  start_date=dataset_maintenance[\"DATETIME\"].min(), \n",
    "                  end_date=dataset_maintenance[\"DATETIME\"].max(), \n",
    "                  freq='H')"
   ]
  },
  {
   "cell_type": "code",
   "execution_count": 40,
   "id": "95d408a0",
   "metadata": {
    "execution": {
     "iopub.execute_input": "2022-12-08T05:18:14.237919Z",
     "iopub.status.busy": "2022-12-08T05:18:14.237271Z",
     "iopub.status.idle": "2022-12-08T05:18:14.257223Z",
     "shell.execute_reply": "2022-12-08T05:18:14.255896Z"
    },
    "papermill": {
     "duration": 0.05903,
     "end_time": "2022-12-08T05:18:14.259739",
     "exception": false,
     "start_time": "2022-12-08T05:18:14.200709",
     "status": "completed"
    },
    "tags": []
   },
   "outputs": [
    {
     "data": {
      "text/html": [
       "<div>\n",
       "<style scoped>\n",
       "    .dataframe tbody tr th:only-of-type {\n",
       "        vertical-align: middle;\n",
       "    }\n",
       "\n",
       "    .dataframe tbody tr th {\n",
       "        vertical-align: top;\n",
       "    }\n",
       "\n",
       "    .dataframe thead th {\n",
       "        text-align: right;\n",
       "    }\n",
       "</style>\n",
       "<table border=\"1\" class=\"dataframe\">\n",
       "  <thead>\n",
       "    <tr style=\"text-align: right;\">\n",
       "      <th></th>\n",
       "      <th>DATETIME</th>\n",
       "      <th>MACHINEID</th>\n",
       "      <th>COMP</th>\n",
       "      <th>YEAR</th>\n",
       "      <th>MONTH</th>\n",
       "      <th>QUARTER</th>\n",
       "      <th>WEEKOFYEAR</th>\n",
       "      <th>HOUR</th>\n",
       "      <th>DAY</th>\n",
       "      <th>DAYOFWEEK</th>\n",
       "      <th>DAYOFYEAR</th>\n",
       "      <th>IS_MONTH_START</th>\n",
       "      <th>IS_MONTH_END</th>\n",
       "      <th>IS_QUARTER_START</th>\n",
       "      <th>IS_QUARTER_END</th>\n",
       "      <th>IS_YEAR_START</th>\n",
       "      <th>IS_YEAR_END</th>\n",
       "      <th>MONTH_YEAR</th>\n",
       "    </tr>\n",
       "  </thead>\n",
       "  <tbody>\n",
       "    <tr>\n",
       "      <th>0</th>\n",
       "      <td>2014-06-01 06:00:00</td>\n",
       "      <td>1</td>\n",
       "      <td>comp2</td>\n",
       "      <td>2014</td>\n",
       "      <td>6</td>\n",
       "      <td>2</td>\n",
       "      <td>22</td>\n",
       "      <td>6</td>\n",
       "      <td>1</td>\n",
       "      <td>6</td>\n",
       "      <td>152</td>\n",
       "      <td>True</td>\n",
       "      <td>False</td>\n",
       "      <td>False</td>\n",
       "      <td>False</td>\n",
       "      <td>False</td>\n",
       "      <td>False</td>\n",
       "      <td>2014-06</td>\n",
       "    </tr>\n",
       "    <tr>\n",
       "      <th>1</th>\n",
       "      <td>2014-06-01 06:00:00</td>\n",
       "      <td>6</td>\n",
       "      <td>comp2</td>\n",
       "      <td>2014</td>\n",
       "      <td>6</td>\n",
       "      <td>2</td>\n",
       "      <td>22</td>\n",
       "      <td>6</td>\n",
       "      <td>1</td>\n",
       "      <td>6</td>\n",
       "      <td>152</td>\n",
       "      <td>True</td>\n",
       "      <td>False</td>\n",
       "      <td>False</td>\n",
       "      <td>False</td>\n",
       "      <td>False</td>\n",
       "      <td>False</td>\n",
       "      <td>2014-06</td>\n",
       "    </tr>\n",
       "    <tr>\n",
       "      <th>2</th>\n",
       "      <td>2014-06-01 06:00:00</td>\n",
       "      <td>9</td>\n",
       "      <td>comp1</td>\n",
       "      <td>2014</td>\n",
       "      <td>6</td>\n",
       "      <td>2</td>\n",
       "      <td>22</td>\n",
       "      <td>6</td>\n",
       "      <td>1</td>\n",
       "      <td>6</td>\n",
       "      <td>152</td>\n",
       "      <td>True</td>\n",
       "      <td>False</td>\n",
       "      <td>False</td>\n",
       "      <td>False</td>\n",
       "      <td>False</td>\n",
       "      <td>False</td>\n",
       "      <td>2014-06</td>\n",
       "    </tr>\n",
       "    <tr>\n",
       "      <th>3</th>\n",
       "      <td>2014-06-01 06:00:00</td>\n",
       "      <td>9</td>\n",
       "      <td>comp2</td>\n",
       "      <td>2014</td>\n",
       "      <td>6</td>\n",
       "      <td>2</td>\n",
       "      <td>22</td>\n",
       "      <td>6</td>\n",
       "      <td>1</td>\n",
       "      <td>6</td>\n",
       "      <td>152</td>\n",
       "      <td>True</td>\n",
       "      <td>False</td>\n",
       "      <td>False</td>\n",
       "      <td>False</td>\n",
       "      <td>False</td>\n",
       "      <td>False</td>\n",
       "      <td>2014-06</td>\n",
       "    </tr>\n",
       "    <tr>\n",
       "      <th>4</th>\n",
       "      <td>2014-06-01 06:00:00</td>\n",
       "      <td>11</td>\n",
       "      <td>comp2</td>\n",
       "      <td>2014</td>\n",
       "      <td>6</td>\n",
       "      <td>2</td>\n",
       "      <td>22</td>\n",
       "      <td>6</td>\n",
       "      <td>1</td>\n",
       "      <td>6</td>\n",
       "      <td>152</td>\n",
       "      <td>True</td>\n",
       "      <td>False</td>\n",
       "      <td>False</td>\n",
       "      <td>False</td>\n",
       "      <td>False</td>\n",
       "      <td>False</td>\n",
       "      <td>2014-06</td>\n",
       "    </tr>\n",
       "  </tbody>\n",
       "</table>\n",
       "</div>"
      ],
      "text/plain": [
       "             DATETIME MACHINEID   COMP  YEAR  MONTH  QUARTER  WEEKOFYEAR  \\\n",
       "0 2014-06-01 06:00:00         1  comp2  2014      6        2          22   \n",
       "1 2014-06-01 06:00:00         6  comp2  2014      6        2          22   \n",
       "2 2014-06-01 06:00:00         9  comp1  2014      6        2          22   \n",
       "3 2014-06-01 06:00:00         9  comp2  2014      6        2          22   \n",
       "4 2014-06-01 06:00:00        11  comp2  2014      6        2          22   \n",
       "\n",
       "   HOUR  DAY  DAYOFWEEK  DAYOFYEAR  IS_MONTH_START  IS_MONTH_END  \\\n",
       "0     6    1          6        152            True         False   \n",
       "1     6    1          6        152            True         False   \n",
       "2     6    1          6        152            True         False   \n",
       "3     6    1          6        152            True         False   \n",
       "4     6    1          6        152            True         False   \n",
       "\n",
       "   IS_QUARTER_START  IS_QUARTER_END  IS_YEAR_START  IS_YEAR_END MONTH_YEAR  \n",
       "0             False           False          False        False    2014-06  \n",
       "1             False           False          False        False    2014-06  \n",
       "2             False           False          False        False    2014-06  \n",
       "3             False           False          False        False    2014-06  \n",
       "4             False           False          False        False    2014-06  "
      ]
     },
     "execution_count": 40,
     "metadata": {},
     "output_type": "execute_result"
    }
   ],
   "source": [
    "upper_col_name(dataset_maintenance)"
   ]
  },
  {
   "cell_type": "markdown",
   "id": "92b723d2",
   "metadata": {
    "papermill": {
     "duration": 0.035437,
     "end_time": "2022-12-08T05:18:14.331002",
     "exception": false,
     "start_time": "2022-12-08T05:18:14.295565",
     "status": "completed"
    },
    "tags": []
   },
   "source": [
    "## Let's plot number of maintenance records across months: "
   ]
  },
  {
   "cell_type": "code",
   "execution_count": 41,
   "id": "a21ff2b1",
   "metadata": {
    "execution": {
     "iopub.execute_input": "2022-12-08T05:18:14.403578Z",
     "iopub.status.busy": "2022-12-08T05:18:14.403120Z",
     "iopub.status.idle": "2022-12-08T05:18:14.652997Z",
     "shell.execute_reply": "2022-12-08T05:18:14.651886Z"
    },
    "papermill": {
     "duration": 0.289108,
     "end_time": "2022-12-08T05:18:14.655590",
     "exception": false,
     "start_time": "2022-12-08T05:18:14.366482",
     "status": "completed"
    },
    "tags": []
   },
   "outputs": [
    {
     "data": {
      "image/png": "[encoded data removed]",
      "text/plain": [
       "<Figure size 1080x360 with 1 Axes>"
      ]
     },
     "metadata": {
      "needs_background": "light"
     },
     "output_type": "display_data"
    }
   ],
   "source": [
    "plot_barh(dataset_maintenance, \"MONTH_YEAR\", normalize=False, sort_index=True)"
   ]
  },
  {
   "cell_type": "markdown",
   "id": "a689e833",
   "metadata": {
    "papermill": {
     "duration": 0.035798,
     "end_time": "2022-12-08T05:18:14.727365",
     "exception": false,
     "start_time": "2022-12-08T05:18:14.691567",
     "status": "completed"
    },
    "tags": []
   },
   "source": [
    "- Number of components replaced in the year 2015 are considerably higher compared to the 2014.\n",
    "\n",
    "- Again, we can ignore the data for 2016 (since we have only one day's data)"
   ]
  },
  {
   "cell_type": "markdown",
   "id": "0c037386",
   "metadata": {
    "papermill": {
     "duration": 0.035593,
     "end_time": "2022-12-08T05:18:14.798941",
     "exception": false,
     "start_time": "2022-12-08T05:18:14.763348",
     "status": "completed"
    },
    "tags": []
   },
   "source": [
    "## Let's check the number of components replaced:"
   ]
  },
  {
   "cell_type": "code",
   "execution_count": 42,
   "id": "28107226",
   "metadata": {
    "execution": {
     "iopub.execute_input": "2022-12-08T05:18:14.874013Z",
     "iopub.status.busy": "2022-12-08T05:18:14.872896Z",
     "iopub.status.idle": "2022-12-08T05:18:15.204380Z",
     "shell.execute_reply": "2022-12-08T05:18:15.203185Z"
    },
    "papermill": {
     "duration": 0.371848,
     "end_time": "2022-12-08T05:18:15.207140",
     "exception": false,
     "start_time": "2022-12-08T05:18:14.835292",
     "status": "completed"
    },
    "tags": []
   },
   "outputs": [
    {
     "data": {
      "image/png": "[encoded data removed]",
      "text/plain": [
       "<Figure size 720x432 with 1 Axes>"
      ]
     },
     "metadata": {
      "needs_background": "light"
     },
     "output_type": "display_data"
    }
   ],
   "source": [
    "plot_barh(dataset_maintenance, \n",
    "          feature_name=\"COMP\", \n",
    "          figsize=(10, 6), \n",
    "          normalize=False,\n",
    "          title=\"Components Replaced\")"
   ]
  },
  {
   "cell_type": "markdown",
   "id": "53b9d3b1",
   "metadata": {
    "papermill": {
     "duration": 0.037098,
     "end_time": "2022-12-08T05:18:15.281196",
     "exception": false,
     "start_time": "2022-12-08T05:18:15.244098",
     "status": "completed"
    },
    "tags": []
   },
   "source": [
    "- Four types components are replaced almost in the same numbers."
   ]
  },
  {
   "cell_type": "markdown",
   "id": "4a1d740c",
   "metadata": {
    "papermill": {
     "duration": 0.036182,
     "end_time": "2022-12-08T05:18:15.354590",
     "exception": false,
     "start_time": "2022-12-08T05:18:15.318408",
     "status": "completed"
    },
    "tags": []
   },
   "source": [
    "## Let's plot the number of Maintenance Records Across Machines:"
   ]
  },
  {
   "cell_type": "code",
   "execution_count": 43,
   "id": "40be05aa",
   "metadata": {
    "execution": {
     "iopub.execute_input": "2022-12-08T05:18:15.429810Z",
     "iopub.status.busy": "2022-12-08T05:18:15.429426Z",
     "iopub.status.idle": "2022-12-08T05:18:16.610610Z",
     "shell.execute_reply": "2022-12-08T05:18:16.609465Z"
    },
    "papermill": {
     "duration": 1.222124,
     "end_time": "2022-12-08T05:18:16.613040",
     "exception": false,
     "start_time": "2022-12-08T05:18:15.390916",
     "status": "completed"
    },
    "tags": []
   },
   "outputs": [
    {
     "data": {
      "image/png": "[encoded data removed]",
      "text/plain": [
       "<Figure size 432x1440 with 1 Axes>"
      ]
     },
     "metadata": {
      "needs_background": "light"
     },
     "output_type": "display_data"
    }
   ],
   "source": [
    "plot_barh(dataset_maintenance, \"MACHINEID\", \n",
    "          figsize=(6, 20), \n",
    "          normalize=False, \n",
    "          title=\"Number of Maintenance Records across MachineID\", \n",
    "          sort_index=True)"
   ]
  },
  {
   "cell_type": "markdown",
   "id": "abe022d0",
   "metadata": {
    "papermill": {
     "duration": 0.038349,
     "end_time": "2022-12-08T05:18:16.689690",
     "exception": false,
     "start_time": "2022-12-08T05:18:16.651341",
     "status": "completed"
    },
    "tags": []
   },
   "source": [
    "## How does the Machine to different component replaced looks like?:"
   ]
  },
  {
   "cell_type": "code",
   "execution_count": 44,
   "id": "9181462f",
   "metadata": {
    "execution": {
     "iopub.execute_input": "2022-12-08T05:18:16.766145Z",
     "iopub.status.busy": "2022-12-08T05:18:16.765704Z",
     "iopub.status.idle": "2022-12-08T05:18:19.105095Z",
     "shell.execute_reply": "2022-12-08T05:18:19.104199Z"
    },
    "papermill": {
     "duration": 2.380673,
     "end_time": "2022-12-08T05:18:19.107432",
     "exception": false,
     "start_time": "2022-12-08T05:18:16.726759",
     "status": "completed"
    },
    "tags": []
   },
   "outputs": [
    {
     "data": {
      "image/png": "[encoded data removed]",
      "text/plain": [
       "<Figure size 1440x432 with 1 Axes>"
      ]
     },
     "metadata": {
      "needs_background": "light"
     },
     "output_type": "display_data"
    }
   ],
   "source": [
    "df_maint = dataset_maintenance.groupby([\"MACHINEID\", \"COMP\"]).size().reset_index()\n",
    "df_maint.columns = [\"MACHINEID\", \"COMP\", \"NUM_COMP\"]\n",
    "df_maint_pivot = pd.pivot(df_maint, index=\"MACHINEID\", columns=\"COMP\", values=\"NUM_COMP\").rename_axis(None, axis=1)\n",
    "\n",
    "df_maint_pivot.plot.bar(stacked=True, figsize=(20, 6), title=\"Count of Components Replaced for different Machines\")\n",
    "plt.xlabel(\"Machine ID\")\n",
    "plt.ylabel(\"Number of Components Replaced\");"
   ]
  },
  {
   "cell_type": "markdown",
   "id": "436d5e23",
   "metadata": {
    "papermill": {
     "duration": 0.03824,
     "end_time": "2022-12-08T05:18:19.185727",
     "exception": false,
     "start_time": "2022-12-08T05:18:19.147487",
     "status": "completed"
    },
    "tags": []
   },
   "source": [
    "## Plot number of Maintenance Issues reaised per day : "
   ]
  },
  {
   "cell_type": "code",
   "execution_count": 45,
   "id": "fa24f0cf",
   "metadata": {
    "execution": {
     "iopub.execute_input": "2022-12-08T05:18:19.264128Z",
     "iopub.status.busy": "2022-12-08T05:18:19.263367Z",
     "iopub.status.idle": "2022-12-08T05:18:19.289761Z",
     "shell.execute_reply": "2022-12-08T05:18:19.288430Z"
    },
    "papermill": {
     "duration": 0.068412,
     "end_time": "2022-12-08T05:18:19.292342",
     "exception": false,
     "start_time": "2022-12-08T05:18:19.223930",
     "status": "completed"
    },
    "tags": []
   },
   "outputs": [
    {
     "data": {
      "text/html": [
       "<div>\n",
       "<style scoped>\n",
       "    .dataframe tbody tr th:only-of-type {\n",
       "        vertical-align: middle;\n",
       "    }\n",
       "\n",
       "    .dataframe tbody tr th {\n",
       "        vertical-align: top;\n",
       "    }\n",
       "\n",
       "    .dataframe thead th {\n",
       "        text-align: right;\n",
       "    }\n",
       "</style>\n",
       "<table border=\"1\" class=\"dataframe\">\n",
       "  <thead>\n",
       "    <tr style=\"text-align: right;\">\n",
       "      <th></th>\n",
       "      <th>DATETIME</th>\n",
       "      <th>MACHINEID</th>\n",
       "      <th>COMP</th>\n",
       "      <th>YEAR</th>\n",
       "      <th>MONTH</th>\n",
       "      <th>QUARTER</th>\n",
       "      <th>WEEKOFYEAR</th>\n",
       "      <th>HOUR</th>\n",
       "      <th>DAY</th>\n",
       "      <th>DAYOFWEEK</th>\n",
       "      <th>DAYOFYEAR</th>\n",
       "      <th>IS_MONTH_START</th>\n",
       "      <th>IS_MONTH_END</th>\n",
       "      <th>IS_QUARTER_START</th>\n",
       "      <th>IS_QUARTER_END</th>\n",
       "      <th>IS_YEAR_START</th>\n",
       "      <th>IS_YEAR_END</th>\n",
       "      <th>MONTH_YEAR</th>\n",
       "    </tr>\n",
       "  </thead>\n",
       "  <tbody>\n",
       "    <tr>\n",
       "      <th>0</th>\n",
       "      <td>2014-06-01 06:00:00</td>\n",
       "      <td>1</td>\n",
       "      <td>comp2</td>\n",
       "      <td>2014</td>\n",
       "      <td>6</td>\n",
       "      <td>2</td>\n",
       "      <td>22</td>\n",
       "      <td>6</td>\n",
       "      <td>1</td>\n",
       "      <td>6</td>\n",
       "      <td>152</td>\n",
       "      <td>True</td>\n",
       "      <td>False</td>\n",
       "      <td>False</td>\n",
       "      <td>False</td>\n",
       "      <td>False</td>\n",
       "      <td>False</td>\n",
       "      <td>2014-06</td>\n",
       "    </tr>\n",
       "    <tr>\n",
       "      <th>1</th>\n",
       "      <td>2014-06-01 06:00:00</td>\n",
       "      <td>6</td>\n",
       "      <td>comp2</td>\n",
       "      <td>2014</td>\n",
       "      <td>6</td>\n",
       "      <td>2</td>\n",
       "      <td>22</td>\n",
       "      <td>6</td>\n",
       "      <td>1</td>\n",
       "      <td>6</td>\n",
       "      <td>152</td>\n",
       "      <td>True</td>\n",
       "      <td>False</td>\n",
       "      <td>False</td>\n",
       "      <td>False</td>\n",
       "      <td>False</td>\n",
       "      <td>False</td>\n",
       "      <td>2014-06</td>\n",
       "    </tr>\n",
       "    <tr>\n",
       "      <th>2</th>\n",
       "      <td>2014-06-01 06:00:00</td>\n",
       "      <td>9</td>\n",
       "      <td>comp1</td>\n",
       "      <td>2014</td>\n",
       "      <td>6</td>\n",
       "      <td>2</td>\n",
       "      <td>22</td>\n",
       "      <td>6</td>\n",
       "      <td>1</td>\n",
       "      <td>6</td>\n",
       "      <td>152</td>\n",
       "      <td>True</td>\n",
       "      <td>False</td>\n",
       "      <td>False</td>\n",
       "      <td>False</td>\n",
       "      <td>False</td>\n",
       "      <td>False</td>\n",
       "      <td>2014-06</td>\n",
       "    </tr>\n",
       "    <tr>\n",
       "      <th>3</th>\n",
       "      <td>2014-06-01 06:00:00</td>\n",
       "      <td>9</td>\n",
       "      <td>comp2</td>\n",
       "      <td>2014</td>\n",
       "      <td>6</td>\n",
       "      <td>2</td>\n",
       "      <td>22</td>\n",
       "      <td>6</td>\n",
       "      <td>1</td>\n",
       "      <td>6</td>\n",
       "      <td>152</td>\n",
       "      <td>True</td>\n",
       "      <td>False</td>\n",
       "      <td>False</td>\n",
       "      <td>False</td>\n",
       "      <td>False</td>\n",
       "      <td>False</td>\n",
       "      <td>2014-06</td>\n",
       "    </tr>\n",
       "    <tr>\n",
       "      <th>4</th>\n",
       "      <td>2014-06-01 06:00:00</td>\n",
       "      <td>11</td>\n",
       "      <td>comp2</td>\n",
       "      <td>2014</td>\n",
       "      <td>6</td>\n",
       "      <td>2</td>\n",
       "      <td>22</td>\n",
       "      <td>6</td>\n",
       "      <td>1</td>\n",
       "      <td>6</td>\n",
       "      <td>152</td>\n",
       "      <td>True</td>\n",
       "      <td>False</td>\n",
       "      <td>False</td>\n",
       "      <td>False</td>\n",
       "      <td>False</td>\n",
       "      <td>False</td>\n",
       "      <td>2014-06</td>\n",
       "    </tr>\n",
       "    <tr>\n",
       "      <th>...</th>\n",
       "      <td>...</td>\n",
       "      <td>...</td>\n",
       "      <td>...</td>\n",
       "      <td>...</td>\n",
       "      <td>...</td>\n",
       "      <td>...</td>\n",
       "      <td>...</td>\n",
       "      <td>...</td>\n",
       "      <td>...</td>\n",
       "      <td>...</td>\n",
       "      <td>...</td>\n",
       "      <td>...</td>\n",
       "      <td>...</td>\n",
       "      <td>...</td>\n",
       "      <td>...</td>\n",
       "      <td>...</td>\n",
       "      <td>...</td>\n",
       "      <td>...</td>\n",
       "    </tr>\n",
       "    <tr>\n",
       "      <th>3281</th>\n",
       "      <td>2016-01-01 06:00:00</td>\n",
       "      <td>35</td>\n",
       "      <td>comp2</td>\n",
       "      <td>2016</td>\n",
       "      <td>1</td>\n",
       "      <td>1</td>\n",
       "      <td>53</td>\n",
       "      <td>6</td>\n",
       "      <td>1</td>\n",
       "      <td>4</td>\n",
       "      <td>1</td>\n",
       "      <td>True</td>\n",
       "      <td>False</td>\n",
       "      <td>True</td>\n",
       "      <td>False</td>\n",
       "      <td>True</td>\n",
       "      <td>False</td>\n",
       "      <td>2016-01</td>\n",
       "    </tr>\n",
       "    <tr>\n",
       "      <th>3282</th>\n",
       "      <td>2016-01-01 06:00:00</td>\n",
       "      <td>42</td>\n",
       "      <td>comp4</td>\n",
       "      <td>2016</td>\n",
       "      <td>1</td>\n",
       "      <td>1</td>\n",
       "      <td>53</td>\n",
       "      <td>6</td>\n",
       "      <td>1</td>\n",
       "      <td>4</td>\n",
       "      <td>1</td>\n",
       "      <td>True</td>\n",
       "      <td>False</td>\n",
       "      <td>True</td>\n",
       "      <td>False</td>\n",
       "      <td>True</td>\n",
       "      <td>False</td>\n",
       "      <td>2016-01</td>\n",
       "    </tr>\n",
       "    <tr>\n",
       "      <th>3283</th>\n",
       "      <td>2016-01-01 06:00:00</td>\n",
       "      <td>43</td>\n",
       "      <td>comp1</td>\n",
       "      <td>2016</td>\n",
       "      <td>1</td>\n",
       "      <td>1</td>\n",
       "      <td>53</td>\n",
       "      <td>6</td>\n",
       "      <td>1</td>\n",
       "      <td>4</td>\n",
       "      <td>1</td>\n",
       "      <td>True</td>\n",
       "      <td>False</td>\n",
       "      <td>True</td>\n",
       "      <td>False</td>\n",
       "      <td>True</td>\n",
       "      <td>False</td>\n",
       "      <td>2016-01</td>\n",
       "    </tr>\n",
       "    <tr>\n",
       "      <th>3284</th>\n",
       "      <td>2016-01-01 06:00:00</td>\n",
       "      <td>55</td>\n",
       "      <td>comp3</td>\n",
       "      <td>2016</td>\n",
       "      <td>1</td>\n",
       "      <td>1</td>\n",
       "      <td>53</td>\n",
       "      <td>6</td>\n",
       "      <td>1</td>\n",
       "      <td>4</td>\n",
       "      <td>1</td>\n",
       "      <td>True</td>\n",
       "      <td>False</td>\n",
       "      <td>True</td>\n",
       "      <td>False</td>\n",
       "      <td>True</td>\n",
       "      <td>False</td>\n",
       "      <td>2016-01</td>\n",
       "    </tr>\n",
       "    <tr>\n",
       "      <th>3285</th>\n",
       "      <td>2016-01-01 06:00:00</td>\n",
       "      <td>78</td>\n",
       "      <td>comp3</td>\n",
       "      <td>2016</td>\n",
       "      <td>1</td>\n",
       "      <td>1</td>\n",
       "      <td>53</td>\n",
       "      <td>6</td>\n",
       "      <td>1</td>\n",
       "      <td>4</td>\n",
       "      <td>1</td>\n",
       "      <td>True</td>\n",
       "      <td>False</td>\n",
       "      <td>True</td>\n",
       "      <td>False</td>\n",
       "      <td>True</td>\n",
       "      <td>False</td>\n",
       "      <td>2016-01</td>\n",
       "    </tr>\n",
       "  </tbody>\n",
       "</table>\n",
       "<p>3286 rows × 18 columns</p>\n",
       "</div>"
      ],
      "text/plain": [
       "                DATETIME MACHINEID   COMP  YEAR  MONTH  QUARTER  WEEKOFYEAR  \\\n",
       "0    2014-06-01 06:00:00         1  comp2  2014      6        2          22   \n",
       "1    2014-06-01 06:00:00         6  comp2  2014      6        2          22   \n",
       "2    2014-06-01 06:00:00         9  comp1  2014      6        2          22   \n",
       "3    2014-06-01 06:00:00         9  comp2  2014      6        2          22   \n",
       "4    2014-06-01 06:00:00        11  comp2  2014      6        2          22   \n",
       "...                  ...       ...    ...   ...    ...      ...         ...   \n",
       "3281 2016-01-01 06:00:00        35  comp2  2016      1        1          53   \n",
       "3282 2016-01-01 06:00:00        42  comp4  2016      1        1          53   \n",
       "3283 2016-01-01 06:00:00        43  comp1  2016      1        1          53   \n",
       "3284 2016-01-01 06:00:00        55  comp3  2016      1        1          53   \n",
       "3285 2016-01-01 06:00:00        78  comp3  2016      1        1          53   \n",
       "\n",
       "      HOUR  DAY  DAYOFWEEK  DAYOFYEAR  IS_MONTH_START  IS_MONTH_END  \\\n",
       "0        6    1          6        152            True         False   \n",
       "1        6    1          6        152            True         False   \n",
       "2        6    1          6        152            True         False   \n",
       "3        6    1          6        152            True         False   \n",
       "4        6    1          6        152            True         False   \n",
       "...    ...  ...        ...        ...             ...           ...   \n",
       "3281     6    1          4          1            True         False   \n",
       "3282     6    1          4          1            True         False   \n",
       "3283     6    1          4          1            True         False   \n",
       "3284     6    1          4          1            True         False   \n",
       "3285     6    1          4          1            True         False   \n",
       "\n",
       "      IS_QUARTER_START  IS_QUARTER_END  IS_YEAR_START  IS_YEAR_END MONTH_YEAR  \n",
       "0                False           False          False        False    2014-06  \n",
       "1                False           False          False        False    2014-06  \n",
       "2                False           False          False        False    2014-06  \n",
       "3                False           False          False        False    2014-06  \n",
       "4                False           False          False        False    2014-06  \n",
       "...                ...             ...            ...          ...        ...  \n",
       "3281              True           False           True        False    2016-01  \n",
       "3282              True           False           True        False    2016-01  \n",
       "3283              True           False           True        False    2016-01  \n",
       "3284              True           False           True        False    2016-01  \n",
       "3285              True           False           True        False    2016-01  \n",
       "\n",
       "[3286 rows x 18 columns]"
      ]
     },
     "execution_count": 45,
     "metadata": {},
     "output_type": "execute_result"
    }
   ],
   "source": [
    "dataset_maintenance"
   ]
  },
  {
   "cell_type": "code",
   "execution_count": 46,
   "id": "c97b4854",
   "metadata": {
    "execution": {
     "iopub.execute_input": "2022-12-08T05:18:19.371687Z",
     "iopub.status.busy": "2022-12-08T05:18:19.371204Z",
     "iopub.status.idle": "2022-12-08T05:18:19.682824Z",
     "shell.execute_reply": "2022-12-08T05:18:19.681655Z"
    },
    "papermill": {
     "duration": 0.354024,
     "end_time": "2022-12-08T05:18:19.685331",
     "exception": false,
     "start_time": "2022-12-08T05:18:19.331307",
     "status": "completed"
    },
    "tags": []
   },
   "outputs": [
    {
     "data": {
      "image/png": "[encoded data removed]",
      "text/plain": [
       "<Figure size 1440x288 with 1 Axes>"
      ]
     },
     "metadata": {
      "needs_background": "light"
     },
     "output_type": "display_data"
    }
   ],
   "source": [
    "dataset_maintenance[\"DATETIME\"].dt.date.value_counts().plot(\n",
    "    style=\"k.\", \n",
    "    figsize=(20, 4), \n",
    "    title=\"Number of Maintenance Records Across Time\")\n",
    "plt.ylabel(\"Number of Maintenance Records\")\n",
    "plt.xlabel(\"Time\")\n",
    "plt.show()"
   ]
  },
  {
   "cell_type": "markdown",
   "id": "a160eac3",
   "metadata": {
    "papermill": {
     "duration": 0.038929,
     "end_time": "2022-12-08T05:18:19.763306",
     "exception": false,
     "start_time": "2022-12-08T05:18:19.724377",
     "status": "completed"
    },
    "tags": []
   },
   "source": [
    "- This indicates that there is a drastic difference between the number of maintenance records in 2014 vs 2015."
   ]
  },
  {
   "cell_type": "markdown",
   "id": "3eb32ae2",
   "metadata": {
    "papermill": {
     "duration": 0.039186,
     "end_time": "2022-12-08T05:18:19.841244",
     "exception": false,
     "start_time": "2022-12-08T05:18:19.802058",
     "status": "completed"
    },
    "tags": []
   },
   "source": [
    "# Failure Data: "
   ]
  },
  {
   "cell_type": "markdown",
   "id": "cb7c5e72",
   "metadata": {
    "papermill": {
     "duration": 0.038239,
     "end_time": "2022-12-08T05:18:19.918351",
     "exception": false,
     "start_time": "2022-12-08T05:18:19.880112",
     "status": "completed"
    },
    "tags": []
   },
   "source": [
    "## Static Data of Machines: "
   ]
  },
  {
   "cell_type": "markdown",
   "id": "1f0da60a",
   "metadata": {
    "papermill": {
     "duration": 0.038586,
     "end_time": "2022-12-08T05:18:19.995926",
     "exception": false,
     "start_time": "2022-12-08T05:18:19.957340",
     "status": "completed"
    },
    "tags": []
   },
   "source": [
    "- This data set includes some information about the machines: model type and age (years in service)"
   ]
  },
  {
   "cell_type": "code",
   "execution_count": 47,
   "id": "b24e2c0d",
   "metadata": {
    "execution": {
     "iopub.execute_input": "2022-12-08T05:18:20.075867Z",
     "iopub.status.busy": "2022-12-08T05:18:20.075170Z",
     "iopub.status.idle": "2022-12-08T05:18:20.087381Z",
     "shell.execute_reply": "2022-12-08T05:18:20.086163Z"
    },
    "papermill": {
     "duration": 0.055309,
     "end_time": "2022-12-08T05:18:20.090309",
     "exception": false,
     "start_time": "2022-12-08T05:18:20.035000",
     "status": "completed"
    },
    "tags": []
   },
   "outputs": [
    {
     "name": "stdout",
     "output_type": "stream",
     "text": [
      "Shape of the Machines Data: (100, 3)\n",
      "\n",
      "\n"
     ]
    },
    {
     "data": {
      "text/html": [
       "<div>\n",
       "<style scoped>\n",
       "    .dataframe tbody tr th:only-of-type {\n",
       "        vertical-align: middle;\n",
       "    }\n",
       "\n",
       "    .dataframe tbody tr th {\n",
       "        vertical-align: top;\n",
       "    }\n",
       "\n",
       "    .dataframe thead th {\n",
       "        text-align: right;\n",
       "    }\n",
       "</style>\n",
       "<table border=\"1\" class=\"dataframe\">\n",
       "  <thead>\n",
       "    <tr style=\"text-align: right;\">\n",
       "      <th></th>\n",
       "      <th>machineID</th>\n",
       "      <th>model</th>\n",
       "      <th>age</th>\n",
       "    </tr>\n",
       "  </thead>\n",
       "  <tbody>\n",
       "    <tr>\n",
       "      <th>0</th>\n",
       "      <td>1</td>\n",
       "      <td>model3</td>\n",
       "      <td>18</td>\n",
       "    </tr>\n",
       "    <tr>\n",
       "      <th>1</th>\n",
       "      <td>2</td>\n",
       "      <td>model4</td>\n",
       "      <td>7</td>\n",
       "    </tr>\n",
       "    <tr>\n",
       "      <th>2</th>\n",
       "      <td>3</td>\n",
       "      <td>model3</td>\n",
       "      <td>8</td>\n",
       "    </tr>\n",
       "    <tr>\n",
       "      <th>3</th>\n",
       "      <td>4</td>\n",
       "      <td>model3</td>\n",
       "      <td>7</td>\n",
       "    </tr>\n",
       "    <tr>\n",
       "      <th>4</th>\n",
       "      <td>5</td>\n",
       "      <td>model3</td>\n",
       "      <td>2</td>\n",
       "    </tr>\n",
       "  </tbody>\n",
       "</table>\n",
       "</div>"
      ],
      "text/plain": [
       "   machineID   model  age\n",
       "0          1  model3   18\n",
       "1          2  model4    7\n",
       "2          3  model3    8\n",
       "3          4  model3    7\n",
       "4          5  model3    2"
      ]
     },
     "execution_count": 47,
     "metadata": {},
     "output_type": "execute_result"
    }
   ],
   "source": [
    "print(f\"Shape of the Machines Data: {dataset_machines.shape}\")\n",
    "print(\"\\n\")\n",
    "dataset_machines.head()"
   ]
  },
  {
   "cell_type": "code",
   "execution_count": 48,
   "id": "4b89c4bf",
   "metadata": {
    "execution": {
     "iopub.execute_input": "2022-12-08T05:18:20.172384Z",
     "iopub.status.busy": "2022-12-08T05:18:20.171953Z",
     "iopub.status.idle": "2022-12-08T05:18:20.183067Z",
     "shell.execute_reply": "2022-12-08T05:18:20.181889Z"
    },
    "papermill": {
     "duration": 0.054672,
     "end_time": "2022-12-08T05:18:20.185540",
     "exception": false,
     "start_time": "2022-12-08T05:18:20.130868",
     "status": "completed"
    },
    "tags": []
   },
   "outputs": [
    {
     "data": {
      "text/html": [
       "<div>\n",
       "<style scoped>\n",
       "    .dataframe tbody tr th:only-of-type {\n",
       "        vertical-align: middle;\n",
       "    }\n",
       "\n",
       "    .dataframe tbody tr th {\n",
       "        vertical-align: top;\n",
       "    }\n",
       "\n",
       "    .dataframe thead th {\n",
       "        text-align: right;\n",
       "    }\n",
       "</style>\n",
       "<table border=\"1\" class=\"dataframe\">\n",
       "  <thead>\n",
       "    <tr style=\"text-align: right;\">\n",
       "      <th></th>\n",
       "      <th>MACHINEID</th>\n",
       "      <th>MODEL</th>\n",
       "      <th>AGE</th>\n",
       "    </tr>\n",
       "  </thead>\n",
       "  <tbody>\n",
       "    <tr>\n",
       "      <th>0</th>\n",
       "      <td>1</td>\n",
       "      <td>model3</td>\n",
       "      <td>18</td>\n",
       "    </tr>\n",
       "    <tr>\n",
       "      <th>1</th>\n",
       "      <td>2</td>\n",
       "      <td>model4</td>\n",
       "      <td>7</td>\n",
       "    </tr>\n",
       "    <tr>\n",
       "      <th>2</th>\n",
       "      <td>3</td>\n",
       "      <td>model3</td>\n",
       "      <td>8</td>\n",
       "    </tr>\n",
       "    <tr>\n",
       "      <th>3</th>\n",
       "      <td>4</td>\n",
       "      <td>model3</td>\n",
       "      <td>7</td>\n",
       "    </tr>\n",
       "    <tr>\n",
       "      <th>4</th>\n",
       "      <td>5</td>\n",
       "      <td>model3</td>\n",
       "      <td>2</td>\n",
       "    </tr>\n",
       "  </tbody>\n",
       "</table>\n",
       "</div>"
      ],
      "text/plain": [
       "   MACHINEID   MODEL  AGE\n",
       "0          1  model3   18\n",
       "1          2  model4    7\n",
       "2          3  model3    8\n",
       "3          4  model3    7\n",
       "4          5  model3    2"
      ]
     },
     "execution_count": 48,
     "metadata": {},
     "output_type": "execute_result"
    }
   ],
   "source": [
    "upper_col_name(dataset_machines)"
   ]
  },
  {
   "cell_type": "markdown",
   "id": "806f67d6",
   "metadata": {
    "papermill": {
     "duration": 0.039666,
     "end_time": "2022-12-08T05:18:20.264783",
     "exception": false,
     "start_time": "2022-12-08T05:18:20.225117",
     "status": "completed"
    },
    "tags": []
   },
   "source": [
    "## Plot the distribution of age of the Machines:"
   ]
  },
  {
   "cell_type": "code",
   "execution_count": 49,
   "id": "185eceae",
   "metadata": {
    "execution": {
     "iopub.execute_input": "2022-12-08T05:18:20.346497Z",
     "iopub.status.busy": "2022-12-08T05:18:20.345510Z",
     "iopub.status.idle": "2022-12-08T05:18:20.553241Z",
     "shell.execute_reply": "2022-12-08T05:18:20.551894Z"
    },
    "papermill": {
     "duration": 0.252341,
     "end_time": "2022-12-08T05:18:20.556743",
     "exception": false,
     "start_time": "2022-12-08T05:18:20.304402",
     "status": "completed"
    },
    "tags": []
   },
   "outputs": [
    {
     "data": {
      "image/png": "[encoded data removed]",
      "text/plain": [
       "<Figure size 720x432 with 1 Axes>"
      ]
     },
     "metadata": {
      "needs_background": "light"
     },
     "output_type": "display_data"
    }
   ],
   "source": [
    "plot_boxh(dataset_machines, feature_name=\"AGE\", log=False)"
   ]
  },
  {
   "cell_type": "markdown",
   "id": "e927f71f",
   "metadata": {
    "papermill": {
     "duration": 0.039418,
     "end_time": "2022-12-08T05:18:20.643236",
     "exception": false,
     "start_time": "2022-12-08T05:18:20.603818",
     "status": "completed"
    },
    "tags": []
   },
   "source": [
    "- The age of the Machines is distributed between 0 to 20. The median age is to ~12.5. There are no outliers. Another indication that this is a synthetic data."
   ]
  },
  {
   "cell_type": "markdown",
   "id": "3a46215c",
   "metadata": {
    "papermill": {
     "duration": 0.040529,
     "end_time": "2022-12-08T05:18:20.723965",
     "exception": false,
     "start_time": "2022-12-08T05:18:20.683436",
     "status": "completed"
    },
    "tags": []
   },
   "source": [
    "## Plot Age vs Number of Failures: "
   ]
  },
  {
   "cell_type": "code",
   "execution_count": 50,
   "id": "734dee8c",
   "metadata": {
    "execution": {
     "iopub.execute_input": "2022-12-08T05:18:20.807590Z",
     "iopub.status.busy": "2022-12-08T05:18:20.806864Z",
     "iopub.status.idle": "2022-12-08T05:18:20.822977Z",
     "shell.execute_reply": "2022-12-08T05:18:20.822029Z"
    },
    "papermill": {
     "duration": 0.059935,
     "end_time": "2022-12-08T05:18:20.825122",
     "exception": false,
     "start_time": "2022-12-08T05:18:20.765187",
     "status": "completed"
    },
    "tags": []
   },
   "outputs": [
    {
     "data": {
      "text/html": [
       "<div>\n",
       "<style scoped>\n",
       "    .dataframe tbody tr th:only-of-type {\n",
       "        vertical-align: middle;\n",
       "    }\n",
       "\n",
       "    .dataframe tbody tr th {\n",
       "        vertical-align: top;\n",
       "    }\n",
       "\n",
       "    .dataframe thead th {\n",
       "        text-align: right;\n",
       "    }\n",
       "</style>\n",
       "<table border=\"1\" class=\"dataframe\">\n",
       "  <thead>\n",
       "    <tr style=\"text-align: right;\">\n",
       "      <th></th>\n",
       "      <th>DATETIME</th>\n",
       "      <th>MACHINEID</th>\n",
       "      <th>ERRORID</th>\n",
       "      <th>DATE</th>\n",
       "    </tr>\n",
       "  </thead>\n",
       "  <tbody>\n",
       "    <tr>\n",
       "      <th>0</th>\n",
       "      <td>2015-01-01 06:00:00</td>\n",
       "      <td>24</td>\n",
       "      <td>error1</td>\n",
       "      <td>2015-01-01</td>\n",
       "    </tr>\n",
       "    <tr>\n",
       "      <th>1</th>\n",
       "      <td>2015-01-01 06:00:00</td>\n",
       "      <td>73</td>\n",
       "      <td>error4</td>\n",
       "      <td>2015-01-01</td>\n",
       "    </tr>\n",
       "    <tr>\n",
       "      <th>2</th>\n",
       "      <td>2015-01-01 06:00:00</td>\n",
       "      <td>81</td>\n",
       "      <td>error1</td>\n",
       "      <td>2015-01-01</td>\n",
       "    </tr>\n",
       "    <tr>\n",
       "      <th>3</th>\n",
       "      <td>2015-01-01 07:00:00</td>\n",
       "      <td>43</td>\n",
       "      <td>error3</td>\n",
       "      <td>2015-01-01</td>\n",
       "    </tr>\n",
       "    <tr>\n",
       "      <th>4</th>\n",
       "      <td>2015-01-01 08:00:00</td>\n",
       "      <td>14</td>\n",
       "      <td>error4</td>\n",
       "      <td>2015-01-01</td>\n",
       "    </tr>\n",
       "    <tr>\n",
       "      <th>...</th>\n",
       "      <td>...</td>\n",
       "      <td>...</td>\n",
       "      <td>...</td>\n",
       "      <td>...</td>\n",
       "    </tr>\n",
       "    <tr>\n",
       "      <th>3914</th>\n",
       "      <td>2015-12-31 18:00:00</td>\n",
       "      <td>91</td>\n",
       "      <td>error4</td>\n",
       "      <td>2015-12-31</td>\n",
       "    </tr>\n",
       "    <tr>\n",
       "      <th>3915</th>\n",
       "      <td>2015-12-31 20:00:00</td>\n",
       "      <td>23</td>\n",
       "      <td>error3</td>\n",
       "      <td>2015-12-31</td>\n",
       "    </tr>\n",
       "    <tr>\n",
       "      <th>3916</th>\n",
       "      <td>2015-12-31 23:00:00</td>\n",
       "      <td>94</td>\n",
       "      <td>error3</td>\n",
       "      <td>2015-12-31</td>\n",
       "    </tr>\n",
       "    <tr>\n",
       "      <th>3917</th>\n",
       "      <td>2016-01-01 05:00:00</td>\n",
       "      <td>8</td>\n",
       "      <td>error3</td>\n",
       "      <td>2016-01-01</td>\n",
       "    </tr>\n",
       "    <tr>\n",
       "      <th>3918</th>\n",
       "      <td>2016-01-01 05:00:00</td>\n",
       "      <td>30</td>\n",
       "      <td>error2</td>\n",
       "      <td>2016-01-01</td>\n",
       "    </tr>\n",
       "  </tbody>\n",
       "</table>\n",
       "<p>3919 rows × 4 columns</p>\n",
       "</div>"
      ],
      "text/plain": [
       "                DATETIME MACHINEID ERRORID        DATE\n",
       "0    2015-01-01 06:00:00        24  error1  2015-01-01\n",
       "1    2015-01-01 06:00:00        73  error4  2015-01-01\n",
       "2    2015-01-01 06:00:00        81  error1  2015-01-01\n",
       "3    2015-01-01 07:00:00        43  error3  2015-01-01\n",
       "4    2015-01-01 08:00:00        14  error4  2015-01-01\n",
       "...                  ...       ...     ...         ...\n",
       "3914 2015-12-31 18:00:00        91  error4  2015-12-31\n",
       "3915 2015-12-31 20:00:00        23  error3  2015-12-31\n",
       "3916 2015-12-31 23:00:00        94  error3  2015-12-31\n",
       "3917 2016-01-01 05:00:00         8  error3  2016-01-01\n",
       "3918 2016-01-01 05:00:00        30  error2  2016-01-01\n",
       "\n",
       "[3919 rows x 4 columns]"
      ]
     },
     "execution_count": 50,
     "metadata": {},
     "output_type": "execute_result"
    }
   ],
   "source": [
    "dataset_errors"
   ]
  },
  {
   "cell_type": "code",
   "execution_count": 51,
   "id": "af8d3a57",
   "metadata": {
    "execution": {
     "iopub.execute_input": "2022-12-08T05:18:20.907600Z",
     "iopub.status.busy": "2022-12-08T05:18:20.906752Z",
     "iopub.status.idle": "2022-12-08T05:18:20.918521Z",
     "shell.execute_reply": "2022-12-08T05:18:20.917352Z"
    },
    "papermill": {
     "duration": 0.055488,
     "end_time": "2022-12-08T05:18:20.921257",
     "exception": false,
     "start_time": "2022-12-08T05:18:20.865769",
     "status": "completed"
    },
    "tags": []
   },
   "outputs": [
    {
     "data": {
      "text/html": [
       "<div>\n",
       "<style scoped>\n",
       "    .dataframe tbody tr th:only-of-type {\n",
       "        vertical-align: middle;\n",
       "    }\n",
       "\n",
       "    .dataframe tbody tr th {\n",
       "        vertical-align: top;\n",
       "    }\n",
       "\n",
       "    .dataframe thead th {\n",
       "        text-align: right;\n",
       "    }\n",
       "</style>\n",
       "<table border=\"1\" class=\"dataframe\">\n",
       "  <thead>\n",
       "    <tr style=\"text-align: right;\">\n",
       "      <th></th>\n",
       "      <th>DATETIME</th>\n",
       "      <th>MACHINEID</th>\n",
       "      <th>FAILURE</th>\n",
       "    </tr>\n",
       "  </thead>\n",
       "  <tbody>\n",
       "    <tr>\n",
       "      <th>0</th>\n",
       "      <td>2015-01-02 03:00:00</td>\n",
       "      <td>16</td>\n",
       "      <td>comp1</td>\n",
       "    </tr>\n",
       "    <tr>\n",
       "      <th>1</th>\n",
       "      <td>2015-01-02 03:00:00</td>\n",
       "      <td>16</td>\n",
       "      <td>comp3</td>\n",
       "    </tr>\n",
       "    <tr>\n",
       "      <th>2</th>\n",
       "      <td>2015-01-02 03:00:00</td>\n",
       "      <td>17</td>\n",
       "      <td>comp4</td>\n",
       "    </tr>\n",
       "    <tr>\n",
       "      <th>3</th>\n",
       "      <td>2015-01-02 03:00:00</td>\n",
       "      <td>22</td>\n",
       "      <td>comp1</td>\n",
       "    </tr>\n",
       "    <tr>\n",
       "      <th>4</th>\n",
       "      <td>2015-01-02 03:00:00</td>\n",
       "      <td>35</td>\n",
       "      <td>comp1</td>\n",
       "    </tr>\n",
       "  </tbody>\n",
       "</table>\n",
       "</div>"
      ],
      "text/plain": [
       "             DATETIME  MACHINEID FAILURE\n",
       "0 2015-01-02 03:00:00         16   comp1\n",
       "1 2015-01-02 03:00:00         16   comp3\n",
       "2 2015-01-02 03:00:00         17   comp4\n",
       "3 2015-01-02 03:00:00         22   comp1\n",
       "4 2015-01-02 03:00:00         35   comp1"
      ]
     },
     "execution_count": 51,
     "metadata": {},
     "output_type": "execute_result"
    }
   ],
   "source": [
    "upper_col_name(dataset_failures)"
   ]
  },
  {
   "cell_type": "code",
   "execution_count": 52,
   "id": "8a4a1c76",
   "metadata": {
    "execution": {
     "iopub.execute_input": "2022-12-08T05:18:21.006322Z",
     "iopub.status.busy": "2022-12-08T05:18:21.004845Z",
     "iopub.status.idle": "2022-12-08T05:18:21.042259Z",
     "shell.execute_reply": "2022-12-08T05:18:21.040996Z"
    },
    "papermill": {
     "duration": 0.082762,
     "end_time": "2022-12-08T05:18:21.044771",
     "exception": false,
     "start_time": "2022-12-08T05:18:20.962009",
     "status": "completed"
    },
    "tags": []
   },
   "outputs": [
    {
     "data": {
      "text/html": [
       "<div>\n",
       "<style scoped>\n",
       "    .dataframe tbody tr th:only-of-type {\n",
       "        vertical-align: middle;\n",
       "    }\n",
       "\n",
       "    .dataframe tbody tr th {\n",
       "        vertical-align: top;\n",
       "    }\n",
       "\n",
       "    .dataframe thead th {\n",
       "        text-align: right;\n",
       "    }\n",
       "</style>\n",
       "<table border=\"1\" class=\"dataframe\">\n",
       "  <thead>\n",
       "    <tr style=\"text-align: right;\">\n",
       "      <th></th>\n",
       "      <th>MACHINEID</th>\n",
       "      <th>MODEL</th>\n",
       "      <th>AGE</th>\n",
       "      <th>NUM_ERRORS</th>\n",
       "      <th>NUM_MAINT</th>\n",
       "      <th>NUM_FAILURE</th>\n",
       "    </tr>\n",
       "  </thead>\n",
       "  <tbody>\n",
       "    <tr>\n",
       "      <th>0</th>\n",
       "      <td>1</td>\n",
       "      <td>model3</td>\n",
       "      <td>18</td>\n",
       "      <td>35</td>\n",
       "      <td>37</td>\n",
       "      <td>7.0</td>\n",
       "    </tr>\n",
       "    <tr>\n",
       "      <th>1</th>\n",
       "      <td>2</td>\n",
       "      <td>model4</td>\n",
       "      <td>7</td>\n",
       "      <td>28</td>\n",
       "      <td>32</td>\n",
       "      <td>4.0</td>\n",
       "    </tr>\n",
       "    <tr>\n",
       "      <th>2</th>\n",
       "      <td>3</td>\n",
       "      <td>model3</td>\n",
       "      <td>8</td>\n",
       "      <td>39</td>\n",
       "      <td>37</td>\n",
       "      <td>5.0</td>\n",
       "    </tr>\n",
       "    <tr>\n",
       "      <th>3</th>\n",
       "      <td>4</td>\n",
       "      <td>model3</td>\n",
       "      <td>7</td>\n",
       "      <td>31</td>\n",
       "      <td>33</td>\n",
       "      <td>6.0</td>\n",
       "    </tr>\n",
       "    <tr>\n",
       "      <th>4</th>\n",
       "      <td>5</td>\n",
       "      <td>model3</td>\n",
       "      <td>2</td>\n",
       "      <td>38</td>\n",
       "      <td>35</td>\n",
       "      <td>7.0</td>\n",
       "    </tr>\n",
       "  </tbody>\n",
       "</table>\n",
       "</div>"
      ],
      "text/plain": [
       "  MACHINEID   MODEL  AGE  NUM_ERRORS  NUM_MAINT  NUM_FAILURE\n",
       "0         1  model3   18          35         37          7.0\n",
       "1         2  model4    7          28         32          4.0\n",
       "2         3  model3    8          39         37          5.0\n",
       "3         4  model3    7          31         33          6.0\n",
       "4         5  model3    2          38         35          7.0"
      ]
     },
     "execution_count": 52,
     "metadata": {},
     "output_type": "execute_result"
    }
   ],
   "source": [
    "# Create a DF with number of errors, maintenance records and failure records across machines\n",
    "\n",
    "# Create a DF consisting of number of erros across Machines\n",
    "erros_across_machine = dataset_errors.groupby(\"MACHINEID\").size()\n",
    "erros_across_machine = pd.DataFrame(erros_across_machine, columns=[\"NUM_ERRORS\"]).reset_index()\n",
    "\n",
    "machines_errors_df = pd.merge(dataset_machines, erros_across_machine, how='left', on=\"MACHINEID\")\n",
    "\n",
    "# Create a DF consisting of number of maintenance records across Machines\n",
    "maint_across_machine = dataset_maintenance.groupby(\"MACHINEID\").size()\n",
    "maint_across_machine = pd.DataFrame(maint_across_machine, columns=[\"NUM_MAINT\"]).reset_index()\n",
    "\n",
    "machines_errors_df = pd.merge(machines_errors_df, maint_across_machine, how='left', on=\"MACHINEID\")\n",
    "\n",
    "# Create a DF consisting of number of failure records across Machines\n",
    "failure_across_machine = dataset_failures.groupby(\"MACHINEID\").size()\n",
    "failure_across_machine = pd.DataFrame(failure_across_machine, columns=[\"NUM_FAILURE\"]).reset_index()\n",
    "\n",
    "machines_errors_df = pd.merge(machines_errors_df, failure_across_machine, how='left', on=\"MACHINEID\")\n",
    "\n",
    "machines_errors_df.head()"
   ]
  },
  {
   "cell_type": "markdown",
   "id": "2952f247",
   "metadata": {
    "papermill": {
     "duration": 0.041831,
     "end_time": "2022-12-08T05:18:21.127430",
     "exception": false,
     "start_time": "2022-12-08T05:18:21.085599",
     "status": "completed"
    },
    "tags": []
   },
   "source": [
    "## Plot Number of Errors across Machine Age:"
   ]
  },
  {
   "cell_type": "code",
   "execution_count": 53,
   "id": "ad49e65e",
   "metadata": {
    "execution": {
     "iopub.execute_input": "2022-12-08T05:18:21.212533Z",
     "iopub.status.busy": "2022-12-08T05:18:21.212127Z",
     "iopub.status.idle": "2022-12-08T05:18:21.470279Z",
     "shell.execute_reply": "2022-12-08T05:18:21.469021Z"
    },
    "papermill": {
     "duration": 0.303006,
     "end_time": "2022-12-08T05:18:21.472835",
     "exception": false,
     "start_time": "2022-12-08T05:18:21.169829",
     "status": "completed"
    },
    "tags": []
   },
   "outputs": [
    {
     "data": {
      "image/png": "[encoded data removed]",
      "text/plain": [
       "<Figure size 576x432 with 1 Axes>"
      ]
     },
     "metadata": {
      "needs_background": "light"
     },
     "output_type": "display_data"
    }
   ],
   "source": [
    "plot_scatter(machines_errors_df, \"AGE\", \"NUM_ERRORS\", \n",
    "             title=\"Age vs Number of Errors\", \n",
    "             xlabel=\"Age\", ylabel=\"Number of Errors\")"
   ]
  },
  {
   "cell_type": "markdown",
   "id": "e3be84ab",
   "metadata": {
    "papermill": {
     "duration": 0.040506,
     "end_time": "2022-12-08T05:18:21.554531",
     "exception": false,
     "start_time": "2022-12-08T05:18:21.514025",
     "status": "completed"
    },
    "tags": []
   },
   "source": [
    "## Plot Age vs Number of Maintenance Records"
   ]
  },
  {
   "cell_type": "code",
   "execution_count": 54,
   "id": "c902ee5d",
   "metadata": {
    "execution": {
     "iopub.execute_input": "2022-12-08T05:18:21.639638Z",
     "iopub.status.busy": "2022-12-08T05:18:21.639209Z",
     "iopub.status.idle": "2022-12-08T05:18:21.879879Z",
     "shell.execute_reply": "2022-12-08T05:18:21.878684Z"
    },
    "papermill": {
     "duration": 0.287034,
     "end_time": "2022-12-08T05:18:21.882375",
     "exception": false,
     "start_time": "2022-12-08T05:18:21.595341",
     "status": "completed"
    },
    "tags": []
   },
   "outputs": [
    {
     "data": {
      "image/png": "[encoded data removed]",
      "text/plain": [
       "<Figure size 576x432 with 1 Axes>"
      ]
     },
     "metadata": {
      "needs_background": "light"
     },
     "output_type": "display_data"
    }
   ],
   "source": [
    "plot_scatter(machines_errors_df, \"AGE\", \"NUM_MAINT\", \n",
    "             title=\"Age vs Number of Maintenance Records\", \n",
    "             xlabel=\"Age\", ylabel=\"Number of Maintenance Records\")"
   ]
  },
  {
   "cell_type": "markdown",
   "id": "7a2add6d",
   "metadata": {
    "papermill": {
     "duration": 0.040789,
     "end_time": "2022-12-08T05:18:21.964799",
     "exception": false,
     "start_time": "2022-12-08T05:18:21.924010",
     "status": "completed"
    },
    "tags": []
   },
   "source": [
    "## Plot Age vs Number of Failure Records:"
   ]
  },
  {
   "cell_type": "code",
   "execution_count": 55,
   "id": "e25532fc",
   "metadata": {
    "execution": {
     "iopub.execute_input": "2022-12-08T05:18:22.051325Z",
     "iopub.status.busy": "2022-12-08T05:18:22.050930Z",
     "iopub.status.idle": "2022-12-08T05:18:22.296801Z",
     "shell.execute_reply": "2022-12-08T05:18:22.295418Z"
    },
    "papermill": {
     "duration": 0.292892,
     "end_time": "2022-12-08T05:18:22.299339",
     "exception": false,
     "start_time": "2022-12-08T05:18:22.006447",
     "status": "completed"
    },
    "tags": []
   },
   "outputs": [
    {
     "data": {
      "image/png": "[encoded data removed]",
      "text/plain": [
       "<Figure size 576x432 with 1 Axes>"
      ]
     },
     "metadata": {
      "needs_background": "light"
     },
     "output_type": "display_data"
    }
   ],
   "source": [
    "plot_scatter(machines_errors_df, \"AGE\", \"NUM_FAILURE\", \n",
    "             title=\"Age vs Number of Failure Records\", \n",
    "             xlabel=\"Age\", ylabel=\"Number of Failure Records\")"
   ]
  },
  {
   "cell_type": "markdown",
   "id": "e3ba2171",
   "metadata": {
    "papermill": {
     "duration": 0.04068,
     "end_time": "2022-12-08T05:18:22.381177",
     "exception": false,
     "start_time": "2022-12-08T05:18:22.340497",
     "status": "completed"
    },
    "tags": []
   },
   "source": [
    "- From the above three plots, it appears only Number of Failures is slightly correlated with Age.\n",
    "\n",
    "- Let's verify it with a correlation values."
   ]
  },
  {
   "cell_type": "code",
   "execution_count": 56,
   "id": "8199b889",
   "metadata": {
    "execution": {
     "iopub.execute_input": "2022-12-08T05:18:22.466022Z",
     "iopub.status.busy": "2022-12-08T05:18:22.465555Z",
     "iopub.status.idle": "2022-12-08T05:18:22.479062Z",
     "shell.execute_reply": "2022-12-08T05:18:22.477851Z"
    },
    "papermill": {
     "duration": 0.0585,
     "end_time": "2022-12-08T05:18:22.481282",
     "exception": false,
     "start_time": "2022-12-08T05:18:22.422782",
     "status": "completed"
    },
    "tags": []
   },
   "outputs": [
    {
     "data": {
      "text/html": [
       "<div>\n",
       "<style scoped>\n",
       "    .dataframe tbody tr th:only-of-type {\n",
       "        vertical-align: middle;\n",
       "    }\n",
       "\n",
       "    .dataframe tbody tr th {\n",
       "        vertical-align: top;\n",
       "    }\n",
       "\n",
       "    .dataframe thead th {\n",
       "        text-align: right;\n",
       "    }\n",
       "</style>\n",
       "<table border=\"1\" class=\"dataframe\">\n",
       "  <thead>\n",
       "    <tr style=\"text-align: right;\">\n",
       "      <th></th>\n",
       "      <th>AGE</th>\n",
       "      <th>NUM_ERRORS</th>\n",
       "      <th>NUM_MAINT</th>\n",
       "      <th>NUM_FAILURE</th>\n",
       "    </tr>\n",
       "  </thead>\n",
       "  <tbody>\n",
       "    <tr>\n",
       "      <th>AGE</th>\n",
       "      <td>1.000000</td>\n",
       "      <td>0.106931</td>\n",
       "      <td>0.075445</td>\n",
       "      <td>0.476459</td>\n",
       "    </tr>\n",
       "    <tr>\n",
       "      <th>NUM_ERRORS</th>\n",
       "      <td>0.106931</td>\n",
       "      <td>1.000000</td>\n",
       "      <td>-0.026558</td>\n",
       "      <td>0.483735</td>\n",
       "    </tr>\n",
       "    <tr>\n",
       "      <th>NUM_MAINT</th>\n",
       "      <td>0.075445</td>\n",
       "      <td>-0.026558</td>\n",
       "      <td>1.000000</td>\n",
       "      <td>-0.030258</td>\n",
       "    </tr>\n",
       "    <tr>\n",
       "      <th>NUM_FAILURE</th>\n",
       "      <td>0.476459</td>\n",
       "      <td>0.483735</td>\n",
       "      <td>-0.030258</td>\n",
       "      <td>1.000000</td>\n",
       "    </tr>\n",
       "  </tbody>\n",
       "</table>\n",
       "</div>"
      ],
      "text/plain": [
       "                  AGE  NUM_ERRORS  NUM_MAINT  NUM_FAILURE\n",
       "AGE          1.000000    0.106931   0.075445     0.476459\n",
       "NUM_ERRORS   0.106931    1.000000  -0.026558     0.483735\n",
       "NUM_MAINT    0.075445   -0.026558   1.000000    -0.030258\n",
       "NUM_FAILURE  0.476459    0.483735  -0.030258     1.000000"
      ]
     },
     "execution_count": 56,
     "metadata": {},
     "output_type": "execute_result"
    }
   ],
   "source": [
    "machines_errors_df.corr()"
   ]
  },
  {
   "cell_type": "markdown",
   "id": "3ea279b2",
   "metadata": {
    "papermill": {
     "duration": 0.0423,
     "end_time": "2022-12-08T05:18:22.565261",
     "exception": false,
     "start_time": "2022-12-08T05:18:22.522961",
     "status": "completed"
    },
    "tags": []
   },
   "source": [
    "# SUMMARY :\n",
    "\n",
    "- While performing the predictive maintenance analysis, the variables and factors that are considered in general terms are the static values of the relevant machine and the IoT sensor data that are included in our lives with Industry 4.0.\n",
    "\n",
    "- When we say static data of a workbench, the variables that should come to mind are the age of the machine, the functionality of the machine, the dimensions of the machine depending on the situation, and the equipment features of the machine.\n",
    "\n",
    "- Sensor data, in general terms, are temperature, vibration, volt and pressure values according to machine type taken from the machine with sensors.\n",
    "\n",
    "- Predictive maintenance analysis is a work that can be done easily in a production facility so that the machine can provide quality service and work is not disrupted.\n",
    "\n",
    "- Static data of the production device are important considerations when performing predictive maintenance analysis work in a manufacturing facility. If these data are known, malfunctions in the production device can be easily explained or rule-based inferences can be made."
   ]
  },
  {
   "cell_type": "code",
   "execution_count": null,
   "id": "4f5c80a3",
   "metadata": {
    "papermill": {
     "duration": 0.041958,
     "end_time": "2022-12-08T05:18:22.649709",
     "exception": false,
     "start_time": "2022-12-08T05:18:22.607751",
     "status": "completed"
    },
    "tags": []
   },
   "outputs": [],
   "source": []
  }
 ],
 "metadata": {
  "kernelspec": {
   "display_name": "Python 3",
   "language": "python",
   "name": "python3"
  },
  "language_info": {
   "codemirror_mode": {
    "name": "ipython",
    "version": 3
   },
   "file_extension": ".py",
   "mimetype": "text/x-python",
   "name": "python",
   "nbconvert_exporter": "python",
   "pygments_lexer": "ipython3",
   "version": "3.7.12"
  },
  "papermill": {
   "default_parameters": {},
   "duration": 42.560846,
   "end_time": "2022-12-08T05:18:23.413698",
   "environment_variables": {},
   "exception": null,
   "input_path": "__notebook__.ipynb",
   "output_path": "__notebook__.ipynb",
   "parameters": {},
   "start_time": "2022-12-08T05:17:40.852852",
   "version": "2.3.4"
  }
 },
 "nbformat": 4,
 "nbformat_minor": 5
}
